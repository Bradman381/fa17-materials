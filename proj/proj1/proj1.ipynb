{
 "cells": [
  {
   "cell_type": "markdown",
   "metadata": {},
   "source": [
    "# Project 1: Setup, Prerequisites, and Image Classification\n",
    "\n",
    "## Course Policies\n",
    "\n",
    "Here are some important course policies. These are also located at\n",
    "http://www.ds100.org/fa17/.\n",
    "\n",
    "**Tentative Grading**\n",
    "\n",
    "There will be 7 challenging projects. Projects must be completed\n",
    "individually and will mix programming and short answer questions.\n",
    "\n",
    "**Collaboration Policy**\n",
    "\n",
    "Data science is a collaborative activity. While you may talk with others about\n",
    "the homework, we ask that you **write your solutions individually**. If you do\n",
    "discuss the assignments with others please **include their names** at the top\n",
    "of your solution.\n",
    "\n",
    "## This assignment\n",
    "\n",
    "In this project, we'll cover:\n",
    "\n",
    "[__Part 1: Prerequisites__](#Part-1:-Prerequisites)\n",
    "\n",
    "This part goes over prerequisites to taking DS100. You should be able to quickly work through the coding and conceptual questions.\n",
    "\n",
    "* How to set up Jupyter on your own computer.\n",
    "* How to check out and submit assignments for this class.\n",
    "* Python basics, like defining functions.\n",
    "* How to use the `numpy` library to compute with arrays of numbers.\n",
    "* Partial derivatives and matrix expressions\n",
    "\n",
    "[__Part 2: Edge Detection__](#Part-2:-Edge-Detection)\n",
    "\n",
    "In part 2, you'll use your knowledge to implement a basic image edge detection algorithm.\n",
    "\n",
    "* Image processing using NumPy\n",
    "* Edge detection using image gradients\n",
    "\n",
    "[__Part 3: Image Classification__](#Part-3:-Image-Classification)\n",
    "\n",
    "* Image classification using gradient magnitudes\n",
    "* Kaggle competition\n",
    "\n",
    "## Due Date\n",
    "\n",
    "This assignment is due at 11:59pm Friday, September 1. Instructions for submission are at the bottom of this assignment."
   ]
  },
  {
   "cell_type": "markdown",
   "metadata": {},
   "source": [
    "## Part 1: Prerequisites"
   ]
  },
  {
   "cell_type": "markdown",
   "metadata": {},
   "source": [
    "### Setup\n",
    "\n",
    "If you haven't already, go through the instructions at\n",
    "http://www.ds100.org/fa17/setup.\n",
    "\n",
    "The instructions for submission are at the end of this notebook.\n",
    "\n",
    "You should now be able to open this notebook in Jupyter and run cells."
   ]
  },
  {
   "cell_type": "markdown",
   "metadata": {},
   "source": [
    "### Running a Cell\n",
    "\n",
    "Try running the following cell.  If you unfamiliar with Jupyter Notebooks consider skimming [this tutorial](http://nbviewer.jupyter.org/github/jupyter/notebook/blob/master/docs/source/examples/Notebook/Notebook%20Basics.ipynb) or selecting **Help -> User Interface Tour** in the menu above. "
   ]
  },
  {
   "cell_type": "code",
   "execution_count": null,
   "metadata": {},
   "outputs": [],
   "source": [
    "print(\"Hello World!\")"
   ]
  },
  {
   "cell_type": "markdown",
   "metadata": {},
   "source": [
    "Even if you are familiar with Jupyter, we strongly encourage you to become proficient with keyboard shortcuts (this will save you time in the future).  To learn about keyboard shortcuts go to **Help -> Keyboard Shortcuts** in the menu above. \n",
    "\n",
    "Here are a few we like:\n",
    "1. `ctrl`+`return` : *Evaluate the current cell*\n",
    "1. `shift`+`return`: *Evaluate the current cell and move to the next*\n",
    "1. `esc` : *command mode* (required before using any of the commands below)\n",
    "1. `a` : *create a cell above*\n",
    "1. `b` : *create a cell below*\n",
    "1. `d` : *delete a cell*\n",
    "1. `m` : *convert a cell to markdown*\n",
    "1. `y` : *convert a cell to code*"
   ]
  },
  {
   "cell_type": "markdown",
   "metadata": {},
   "source": [
    "### Setup Grading Tools \n",
    "\n",
    "First, let's make sure you have the latest version of okpy."
   ]
  },
  {
   "cell_type": "code",
   "execution_count": null,
   "metadata": {},
   "outputs": [],
   "source": [
    "!pip install -U okpy"
   ]
  },
  {
   "cell_type": "markdown",
   "metadata": {},
   "source": [
    "### Testing your Setup\n",
    "\n",
    "If you've set up your environment properly, this cell should run without problems:"
   ]
  },
  {
   "cell_type": "code",
   "execution_count": null,
   "metadata": {
    "scrolled": true
   },
   "outputs": [],
   "source": [
    "import math\n",
    "import numpy as np\n",
    "import matplotlib\n",
    "%matplotlib inline\n",
    "import matplotlib.pyplot as plt\n",
    "plt.style.use('fivethirtyeight')\n",
    "from datascience import *\n",
    "import pandas as pd\n",
    "import skimage\n",
    "import skimage.io\n",
    "import skimage.filters\n",
    "\n",
    "from client.api.notebook import Notebook\n",
    "ok = Notebook('proj1.ok')"
   ]
  },
  {
   "cell_type": "markdown",
   "metadata": {},
   "source": [
    "Now, run this cell to log into OkPy:"
   ]
  },
  {
   "cell_type": "code",
   "execution_count": null,
   "metadata": {},
   "outputs": [],
   "source": [
    "ok.auth()"
   ]
  },
  {
   "cell_type": "markdown",
   "metadata": {},
   "source": [
    "### Python\n",
    "\n",
    "Python is the main programming language we'll use in the course. We expect that you've taken CS61A or an equivalent class, so you should be able to explain the following cells. Run them and make sure you understand what is happening in each.\n",
    "\n",
    "If this seems difficult, please review one or more of the following materials.\n",
    "\n",
    "- **[Python Tutorial](https://docs.python.org/3.5/tutorial/)**: Introduction to Python from the creators of Python\n",
    "- **[Composing Programs Chapter 1](http://composingprograms.com/pages/11-getting-started.html)**: This is more of a introduction to programming with Python.\n",
    "- **[Advanced Crash Course](http://cs231n.github.io/python-numpy-tutorial/)**: A fast crash course which assumes some programming background.\n"
   ]
  },
  {
   "cell_type": "markdown",
   "metadata": {},
   "source": [
    "#### Mathematical Expressions"
   ]
  },
  {
   "cell_type": "code",
   "execution_count": null,
   "metadata": {},
   "outputs": [],
   "source": [
    "# This is a comment.\n",
    "# In Python, the ** operator performs exponentiation.\n",
    "math.sqrt(math.e ** (-math.pi + 1))"
   ]
  },
  {
   "cell_type": "markdown",
   "metadata": {},
   "source": [
    "#### Output and Printing"
   ]
  },
  {
   "cell_type": "code",
   "execution_count": null,
   "metadata": {},
   "outputs": [],
   "source": [
    "\"Why didn't this line print?\"\n",
    "\n",
    "print(\"Hello\" + \",\", \"world!\")\n",
    "\n",
    "\"Hello, cell\" + \"output!\""
   ]
  },
  {
   "cell_type": "markdown",
   "metadata": {},
   "source": [
    "#### For Loops"
   ]
  },
  {
   "cell_type": "code",
   "execution_count": null,
   "metadata": {},
   "outputs": [],
   "source": [
    "# A for loop repeats a block of code once for each\n",
    "# element in a given collection.\n",
    "for i in range(5):\n",
    "    if i % 2 == 0:\n",
    "        print(2**i)\n",
    "    else:\n",
    "        print(\"Odd power of 2\")"
   ]
  },
  {
   "cell_type": "markdown",
   "metadata": {},
   "source": [
    "#### List Comprehension"
   ]
  },
  {
   "cell_type": "code",
   "execution_count": null,
   "metadata": {},
   "outputs": [],
   "source": [
    "[str(i) + \" sheep.\" for i in range(1,5)] "
   ]
  },
  {
   "cell_type": "code",
   "execution_count": null,
   "metadata": {},
   "outputs": [],
   "source": [
    "[i for i in range(10) if i % 2 == 0]"
   ]
  },
  {
   "cell_type": "code",
   "execution_count": null,
   "metadata": {},
   "outputs": [],
   "source": [
    "# A list comprehension is a convenient way to apply a function\n",
    "# to each element in a given collection.\n",
    "# The String method join appends together all its arguments\n",
    "# separated by the given string.  So we append each element produced\n",
    "# by the list comprehension, each separated by a newline (\"\\n\").\n",
    "print(\"\\n\".join([str(2**i) if i % 2 == 0 else \"Odd power of 2\"\n",
    "                 for i in range(5)]))\n"
   ]
  },
  {
   "cell_type": "markdown",
   "metadata": {},
   "source": [
    "#### Defining Functions"
   ]
  },
  {
   "cell_type": "code",
   "execution_count": null,
   "metadata": {
    "collapsed": true
   },
   "outputs": [],
   "source": [
    "def add2(x):\n",
    "    \"\"\"This docstring explains what this function does: it adds 2 to a number.\"\"\"\n",
    "    return x + 2"
   ]
  },
  {
   "cell_type": "markdown",
   "metadata": {},
   "source": [
    "#### Getting Help"
   ]
  },
  {
   "cell_type": "code",
   "execution_count": null,
   "metadata": {},
   "outputs": [],
   "source": [
    "help(add2)"
   ]
  },
  {
   "cell_type": "code",
   "execution_count": null,
   "metadata": {
    "collapsed": true
   },
   "outputs": [],
   "source": [
    "add2?"
   ]
  },
  {
   "cell_type": "markdown",
   "metadata": {},
   "source": [
    "You can close the window at the bottom by pressing `esc` several times. "
   ]
  },
  {
   "cell_type": "markdown",
   "metadata": {},
   "source": [
    "#### Passing Functions as Values"
   ]
  },
  {
   "cell_type": "code",
   "execution_count": null,
   "metadata": {},
   "outputs": [],
   "source": [
    "def makeAdder(amount):\n",
    "    \"\"\"Make a function that adds the given amount to a number.\"\"\"\n",
    "    def addAmount(x):\n",
    "        return x + amount\n",
    "    return addAmount\n",
    "\n",
    "add3 = makeAdder(3)\n",
    "add3(4)"
   ]
  },
  {
   "cell_type": "code",
   "execution_count": null,
   "metadata": {},
   "outputs": [],
   "source": [
    "makeAdder(3)(4)"
   ]
  },
  {
   "cell_type": "markdown",
   "metadata": {},
   "source": [
    "#### Anonymous Functions and Lambdas"
   ]
  },
  {
   "cell_type": "code",
   "execution_count": null,
   "metadata": {},
   "outputs": [],
   "source": [
    "# add4 is very similar to add2, but it's been created using a lambda expression.\n",
    "add4 = lambda x: x + 4\n",
    "add4(5)"
   ]
  },
  {
   "cell_type": "markdown",
   "metadata": {},
   "source": [
    "#### Recursion"
   ]
  },
  {
   "cell_type": "code",
   "execution_count": null,
   "metadata": {},
   "outputs": [],
   "source": [
    "def fib(n):\n",
    "    if n <= 1:\n",
    "        return 1\n",
    "    else:\n",
    "        # Functions can call themselves recursively.\n",
    "        return fib(n-1) + fib(n-2)\n",
    "\n",
    "fib(6)"
   ]
  },
  {
   "cell_type": "markdown",
   "metadata": {},
   "source": [
    "### Question 1\n",
    "\n",
    "#### Question 1a\n",
    "Write a function nums_reversed that takes in an integer `n` and returns a string\n",
    "containing the numbers 1 through `n` including `n` in reverse order, separated\n",
    "by spaces. For example:\n",
    "\n",
    "    >>> nums_reversed(5)\n",
    "    '5 4 3 2 1'\n",
    "\n",
    "***Note:*** The ellipsis (`...`) indicates something you should fill in.  It *doesn't* necessarily imply you should replace it with only one line of code."
   ]
  },
  {
   "cell_type": "code",
   "execution_count": null,
   "metadata": {
    "collapsed": true
   },
   "outputs": [],
   "source": [
    "def nums_reversed(n):\n",
    "    ..."
   ]
  },
  {
   "cell_type": "code",
   "execution_count": null,
   "metadata": {},
   "outputs": [],
   "source": [
    "_ = ok.grade('q01a')\n",
    "_ = ok.backup()"
   ]
  },
  {
   "cell_type": "markdown",
   "metadata": {},
   "source": [
    "#### Question 1b\n",
    "\n",
    "Write a function `string_splosion` that takes in a non-empty string like\n",
    "`\"Code\"` and returns a long string containing every prefix of the input.\n",
    "For example:\n",
    "\n",
    "    >>> string_splosion('Code')\n",
    "    'CCoCodCode'\n",
    "    >>> string_splosion('data!')\n",
    "    'ddadatdatadata!'\n",
    "    >>> string_splosion('hi')\n",
    "    'hhi'\n",
    "\n",
    "**Hint:** Try to use recursion. Think about how you might answering the following two questions:\n",
    "1. **[Base Case]** What is the `string_splosion` of the empty string?\n",
    "1. **[Inductive Step]** If you had a `string_splosion` function for the first $n-1$ characters of your string how could you extend it to the $n^{th}$ character? For example, `string_splosion(\"Cod\") = \"CCoCod\"` becomes `string_splosion(\"Code\") = \"CCoCodCode\"`.\n"
   ]
  },
  {
   "cell_type": "code",
   "execution_count": null,
   "metadata": {
    "collapsed": true,
    "tags": [
     "student"
    ]
   },
   "outputs": [],
   "source": [
    "def string_splosion(string):\n",
    "    ..."
   ]
  },
  {
   "cell_type": "code",
   "execution_count": null,
   "metadata": {},
   "outputs": [],
   "source": [
    "_ = ok.grade('q01b')\n",
    "_ = ok.backup()"
   ]
  },
  {
   "cell_type": "markdown",
   "metadata": {},
   "source": [
    "#### Question 1c\n",
    "\n",
    "Write a function `double100` that takes in a list of integers\n",
    "and returns `True` only if the list has two `100`s next to each other.\n",
    "\n",
    "    >>> double100([100, 2, 3, 100])\n",
    "    False\n",
    "    >>> double100([2, 3, 100, 100, 5])\n",
    "    True\n"
   ]
  },
  {
   "cell_type": "code",
   "execution_count": null,
   "metadata": {
    "collapsed": true,
    "scrolled": true,
    "tags": [
     "student"
    ]
   },
   "outputs": [],
   "source": [
    "def double100(nums):\n",
    "    ..."
   ]
  },
  {
   "cell_type": "code",
   "execution_count": null,
   "metadata": {},
   "outputs": [],
   "source": [
    "_ = ok.grade('q01c')\n",
    "_ = ok.backup()"
   ]
  },
  {
   "cell_type": "markdown",
   "metadata": {},
   "source": [
    "### NumPy and Tables\n",
    "\n",
    "The `NumPy` library lets us do fast, simple computing with numbers in Python. The `datascience` Table class from Data 8 gives us simple operations on tabular data.\n",
    "\n",
    "You should be able to understand the code in the following cells. If not, review the following:\n",
    "\n",
    "- [Inferential Thinking Chapter 4](https://www.inferentialthinking.com/chapters/04/4/arrays.html)\n",
    "- [Inferential Thinking Chapter 5](https://www.inferentialthinking.com/chapters/05/tables.html)\n",
    "- [Inferential Thinking Chapter 6](https://www.inferentialthinking.com/chapters/05/tables.html)\n",
    "- [Inferential Thinking Chapter 7](https://www.inferentialthinking.com/chapters/07/functions-and-tables.html)"
   ]
  },
  {
   "cell_type": "markdown",
   "metadata": {},
   "source": [
    "**Jupyter pro-tip**: Pull up the docs for any function in Jupyter by running a cell with\n",
    "the function name and a `?` at the end:"
   ]
  },
  {
   "cell_type": "code",
   "execution_count": null,
   "metadata": {
    "collapsed": true
   },
   "outputs": [],
   "source": [
    "np.arange?"
   ]
  },
  {
   "cell_type": "markdown",
   "metadata": {},
   "source": [
    "**Another Jupyter pro-tip**: Pull up the docs for any function in Jupyter by typing the function\n",
    "name, then `<Shift>-<Tab>` on your keyboard. Super convenient when you forget the order\n",
    "of the arguments to a function. You can press `<Tab>` multiple tabs to expand the docs.\n",
    "\n",
    "Try it on the function below:"
   ]
  },
  {
   "cell_type": "code",
   "execution_count": null,
   "metadata": {
    "scrolled": true
   },
   "outputs": [],
   "source": [
    "np.linspace"
   ]
  },
  {
   "cell_type": "markdown",
   "metadata": {},
   "source": [
    "You can use the tips above to help you deciper the following code."
   ]
  },
  {
   "cell_type": "code",
   "execution_count": null,
   "metadata": {},
   "outputs": [],
   "source": [
    "# Let's take a 20-sided die...\n",
    "NUM_FACES = 20\n",
    "\n",
    "# ...and roll it 4 times\n",
    "rolls = 4\n",
    "\n",
    "# What's the probability that all 4 rolls are different? It's:\n",
    "# 20/20 * 19/20 * 18/20 * 17/20\n",
    "prob_diff = np.prod((NUM_FACES - np.arange(rolls))\n",
    "                    / NUM_FACES)\n",
    "prob_diff"
   ]
  },
  {
   "cell_type": "code",
   "execution_count": null,
   "metadata": {},
   "outputs": [],
   "source": [
    "# Let's compute that probability for 1 roll, 2 rolls, ..., 20 rolls.\n",
    "# The array ys will contain:\n",
    "# \n",
    "# 20/20\n",
    "# 20/20 * 19/20\n",
    "# 20/20 * 18/20\n",
    "# ...\n",
    "# 20/20 * 19/20 * ... * 1/20\n",
    "\n",
    "xs = np.arange(20)\n",
    "ys = np.cumprod((NUM_FACES - xs) / NUM_FACES)\n",
    "\n",
    "# Python slicing works on arrays too\n",
    "ys[:5]"
   ]
  },
  {
   "cell_type": "code",
   "execution_count": null,
   "metadata": {},
   "outputs": [],
   "source": [
    "# Plot those probabilities. You should know how to interpret this plot!\n",
    "die_probs = Table().with_columns(\n",
    "    'Num Rolls', xs,\n",
    "    'P(all different)', ys,\n",
    ")\n",
    "die_probs.plot(0, 1)"
   ]
  },
  {
   "cell_type": "code",
   "execution_count": null,
   "metadata": {},
   "outputs": [],
   "source": [
    "# Mysterious...\n",
    "mystery = np.exp(-xs ** 2 / (2 * NUM_FACES))\n",
    "mystery"
   ]
  },
  {
   "cell_type": "code",
   "execution_count": null,
   "metadata": {},
   "outputs": [],
   "source": [
    "# If you're curious, this is the exponential approximation for our probability:\n",
    "# https://textbook.prob140.org/ch1/Exponential_Approximation.html\n",
    "die_probs.with_column('Mystery', mystery).plot(0)"
   ]
  },
  {
   "cell_type": "markdown",
   "metadata": {},
   "source": [
    "### Question 2\n",
    "\n",
    "This question uses the table shown in [Inferential Thinking Chapter 11](https://www.inferentialthinking.com/chapters/11/2/bootstrap.html).\n",
    "\n",
    "The `sf` table contains the Organization, Job, and Total Compensation of all public workers in San Francisco in 2015 who made above $10000. "
   ]
  },
  {
   "cell_type": "code",
   "execution_count": null,
   "metadata": {},
   "outputs": [],
   "source": [
    "sf = Table.read_table('san_francisco_2015.csv')\n",
    "sf.set_format(2, NumberFormatter(0))\n",
    "sf.show(3)"
   ]
  },
  {
   "cell_type": "markdown",
   "metadata": {},
   "source": [
    "#### Question 2a\n",
    "\n",
    "Create a Table called `richest` that contains the top 10 highest-paid public workers in SF."
   ]
  },
  {
   "cell_type": "code",
   "execution_count": null,
   "metadata": {},
   "outputs": [],
   "source": [
    "richest = ...\n",
    "richest"
   ]
  },
  {
   "cell_type": "code",
   "execution_count": null,
   "metadata": {},
   "outputs": [],
   "source": [
    "_ = ok.grade('q02a')\n",
    "_ = ok.backup()"
   ]
  },
  {
   "cell_type": "markdown",
   "metadata": {},
   "source": [
    "#### Question 2b\n",
    "\n",
    "Create a Table called `orgs` that contains two columns. The first column should have one row for each Organization Group and the second column should contain the number of workers from each group. The table should be sorted in descending order of the number of workers in each group."
   ]
  },
  {
   "cell_type": "code",
   "execution_count": null,
   "metadata": {},
   "outputs": [],
   "source": [
    "orgs = ...\n",
    "orgs"
   ]
  },
  {
   "cell_type": "code",
   "execution_count": null,
   "metadata": {
    "scrolled": true
   },
   "outputs": [],
   "source": [
    "_ = ok.grade('q02b')\n",
    "_ = ok.backup()"
   ]
  },
  {
   "cell_type": "markdown",
   "metadata": {},
   "source": [
    "#### Question 2c\n",
    "\n",
    "You should have noticed that there was only one person in the General City Responsibilities organization. What is that person's total compensation? Store it in `lone_ranger`."
   ]
  },
  {
   "cell_type": "code",
   "execution_count": null,
   "metadata": {},
   "outputs": [],
   "source": [
    "lone_ranger = ...\n",
    "lone_ranger"
   ]
  },
  {
   "cell_type": "code",
   "execution_count": null,
   "metadata": {},
   "outputs": [],
   "source": [
    "_ = ok.grade('q02c')\n",
    "_ = ok.backup()"
   ]
  },
  {
   "cell_type": "markdown",
   "metadata": {},
   "source": [
    "## Multivariable Calculus and Linear Algebra\n",
    "\n",
    "The following questions ask you to recall your knowledge of multivariable calculus and linear algebra. We will use some of the most fundamental concepts from each discipline in this class, so the following problems should at least seem familiar to you.\n",
    "\n",
    "For the following problems, you should use LaTeX to format your answer. If you aren't familiar with LaTeX, not to worry. It's not hard to use in a Jupyter notebook. Just place your math in between dollar signs:\n",
    "\n",
    "\\$ f(x) = 2x \\$ becomes $ f(x) = 2x $.\n",
    "\n",
    "If you have a longer equation, use double dollar signs:\n",
    "\n",
    "\\$\\$ \\sum_{i=0}^n i^2 \\$\\$ becomes:\n",
    "\n",
    "$$ \\sum_{i=0}^n i^2 $$.\n",
    "\n",
    "[For more about basic LaTeX formatting, you can read this article.](https://www.sharelatex.com/learn/Mathematical_expressions)\n",
    "\n",
    "If you have trouble with these topics, we suggest reviewing:\n",
    "\n",
    "- [Khan Academy's Multivariable Calculus](https://www.khanacademy.org/math/multivariable-calculus)\n",
    "- [Khan Academy's Linear Algebra](https://www.khanacademy.org/math/linear-algebra)"
   ]
  },
  {
   "cell_type": "markdown",
   "metadata": {
    "tags": [
     "written"
    ]
   },
   "source": [
    "### Question 3\n",
    "\n",
    "#### Question 3a\n",
    "\n",
    "Suppose we have the following scalar-valued function on $x$ and $y$:\n",
    "\n",
    "$$ f(x, y) = x^2 + 4xy + 2y^3 $$\n",
    "\n",
    "Derive the partial derivative with respect to $x$."
   ]
  },
  {
   "cell_type": "markdown",
   "metadata": {
    "tags": [
     "student",
     "written"
    ]
   },
   "source": [
    "$$ \\frac{\\partial}{\\partial x} f = ... $$"
   ]
  },
  {
   "cell_type": "markdown",
   "metadata": {
    "tags": [
     "written"
    ]
   },
   "source": [
    "#### Question 3b\n",
    "\n",
    "Suppose we have the same function $f$:\n",
    "\n",
    "$$ f(x, y) = x^2 + 4xy + 2y^3 $$\n",
    "\n",
    "Derive $ \\nabla f(x, y) $, the vector-valued gradient of $f$."
   ]
  },
  {
   "cell_type": "markdown",
   "metadata": {
    "tags": [
     "student",
     "written"
    ]
   },
   "source": [
    "$$\n",
    "\\nabla f(x, y) = \\begin{bmatrix}\n",
    "   ... \\\\\n",
    "   ... \\\\\n",
    "\\end{bmatrix}\n",
    "$$"
   ]
  },
  {
   "cell_type": "markdown",
   "metadata": {
    "tags": [
     "written"
    ]
   },
   "source": [
    "#### Question 3c\n",
    "\n",
    "Suppose we have the same function $f$:\n",
    "\n",
    "$$ f(x, y) = x^2 + 4xy + 2y^3 $$\n",
    "\n",
    "What is the direction of steepest ascent at the point $ (0, 0)$ ? At $ (5, 0) $? Leave your answers as a vector. (You don't have to normalize your vector, although it may be helpful for you later.)\n",
    "\n",
    "As we keep moving in the positive x direction, what happens to the direction of steepest ascent? What happens to the magnitude?"
   ]
  },
  {
   "cell_type": "markdown",
   "metadata": {
    "tags": [
     "student",
     "written"
    ]
   },
   "source": [
    "*Write your answer here, replacing this text.*"
   ]
  },
  {
   "cell_type": "markdown",
   "metadata": {
    "tags": [
     "written"
    ]
   },
   "source": [
    "### Question 4\n",
    "\n",
    "#### Question 4a\n",
    "\n",
    "Joey, Deb, and Sam are shopping for fruit at Berkeley Bowl. Berkeley Bowl, true to its name, only sells fruit bowls. A fruit bowl contains some fruit and the price of a fruit bowl is the total price of all of its individual fruit.\n",
    "\n",
    "Berkeley Bowl has apples, bananas, and cantaloupes. The price of each of these can be written in a vector:\n",
    "\n",
    "$$\n",
    "\\vec{v} = \\begin{bmatrix}\n",
    "     2 \\\\\n",
    "     1 \\\\\n",
    "     4 \\\\\n",
    "\\end{bmatrix}\n",
    "$$\n",
    "\n",
    "So the price of a single apple is $2 (expensive!).\n",
    "\n",
    "Berkeley Bowl sells the following fruit bowls:\n",
    "\n",
    "1. 2 of each fruit\n",
    "2. 5 apples and 8 bananas\n",
    "3. 2 bananas and 3 cantaloupes\n",
    "4. 10 cantaloupes\n",
    "\n",
    "Create a matrix $B$ such that the matrix-vector multiplication\n",
    "\n",
    "$$\n",
    "B\\vec{v}\n",
    "$$\n",
    "\n",
    "evaluates to a length 4 column vector containing the price of each fruit bowl. The first entry of the result should be the cost of fruit bowl #1, the second entry the cost of fruit bowl #2, etc."
   ]
  },
  {
   "cell_type": "markdown",
   "metadata": {
    "tags": [
     "student",
     "written"
    ]
   },
   "source": [
    "$$\n",
    "B = \\begin{bmatrix}\n",
    "    ... % Use the & character to separate entries in a row, and \\\\ to start a new row.\n",
    "\\end{bmatrix}\n",
    "$$"
   ]
  },
  {
   "cell_type": "markdown",
   "metadata": {
    "tags": [
     "written"
    ]
   },
   "source": [
    "#### Question 4b\n",
    "\n",
    "Joey, Deb, and Sam make the following purchases:\n",
    "\n",
    "- Joey buys 2 fruit bowl #1's and 1 fruit bowl #2.\n",
    "- Deb buys 1 of each fruit bowl.\n",
    "- Sam buys 10 fruit bowl #4s (he really like cantaloupes).\n",
    "\n",
    "Create a matrix $A$ such that the matrix expression\n",
    "\n",
    "$$\n",
    "AB\\vec{v}\n",
    "$$\n",
    "\n",
    "evaluates to a length 3 column vector containing how much each of them spent. The first entry of the result should be the total amount spent by Joey, the second entry the amount sent by Deb, etc."
   ]
  },
  {
   "cell_type": "markdown",
   "metadata": {
    "tags": [
     "student",
     "written"
    ]
   },
   "source": [
    "$$\n",
    "A = \\begin{bmatrix}\n",
    "    ... % Use the & character to separate entries in a row, and \\\\ to start a new row.\n",
    "\\end{bmatrix}\n",
    "$$"
   ]
  },
  {
   "cell_type": "markdown",
   "metadata": {
    "tags": [
     "written"
    ]
   },
   "source": [
    "#### Question 4c\n",
    "\n",
    "Now, compute the multiplication $ AB\\vec{v} $ to get the actual amounts spend by each person. Who spent the most money?"
   ]
  },
  {
   "cell_type": "markdown",
   "metadata": {
    "tags": [
     "student",
     "written"
    ]
   },
   "source": [
    "$$\n",
    "AB\\vec{v} = \\begin{bmatrix}\n",
    "    ... % Use the & character to separate entries in a row, and \\\\ to start a new row.\n",
    "\\end{bmatrix}\n",
    "$$"
   ]
  },
  {
   "cell_type": "markdown",
   "metadata": {
    "tags": [
     "written"
    ]
   },
   "source": [
    "#### Question 4d\n",
    "\n",
    "Let's suppose Berkeley Bowl changes their fruit prices, but you don't know what they changed their prices to. Joey, Deb, and Sam buy the same quantity of fruit baskets and the number of fruit in each basket is the same, but now they each spent these amounts:\n",
    "\n",
    "$$\n",
    "\\vec{x} = \\begin{bmatrix}\n",
    "    80 \\\\\n",
    "    80 \\\\\n",
    "    100 \\\\\n",
    "\\end{bmatrix}\n",
    "$$\n",
    "\n",
    "Write a single matrix expression that evaluates to the new prices of the individual fruits. You may use the variables $A$, $B$, and $\\vec{x}$ in your answer."
   ]
  },
  {
   "cell_type": "markdown",
   "metadata": {
    "tags": [
     "student",
     "written"
    ]
   },
   "source": [
    "*Write your answer here, replacing this text*"
   ]
  },
  {
   "cell_type": "markdown",
   "metadata": {},
   "source": [
    "## End of Part 1\n",
    "\n",
    "Note that this notebook is not the complete assignment. When the completed assignment is released, you should download it and copy over your solutions there."
   ]
  },
  {
   "cell_type": "markdown",
   "metadata": {},
   "source": [
    "## Part 2: Edge Detection\n",
    "\n",
    "### Images as Data\n",
    "\n",
    "We've worked extensively with data in tabular form in Data 8. Turns out that image files are data, too!\n",
    "\n",
    "Images are 2-dimensional grids of pixels. Each pixel contains 3 values between 0 and 1 that specify how much red, green, and blue go into each pixel.\n",
    "\n",
    "We can create images in NumPy:"
   ]
  },
  {
   "cell_type": "code",
   "execution_count": null,
   "metadata": {},
   "outputs": [],
   "source": [
    "simple_image = np.array([\n",
    "    [[  0,   0, 0], [0.5, 0.5, 0.5], [1.0, 1.0, 1.0]], # Grayscale pixels\n",
    "    [[1.0,   0, 0], [  0, 1.0,   0], [  0,   0, 1.0]], # Pure RGB pixels\n",
    "    [[0.5, 0.5, 0], [0.5,   0, 0.5], [  0, 0.5, 0.5]], # Blend of 2 colors\n",
    "])\n",
    "simple_image"
   ]
  },
  {
   "cell_type": "markdown",
   "metadata": {},
   "source": [
    "We can then use the [`scikit-image`](http://scikit-image.org/) library to display an image:"
   ]
  },
  {
   "cell_type": "code",
   "execution_count": null,
   "metadata": {},
   "outputs": [],
   "source": [
    "# Curious how this method works? Try using skimage.io.imshow? to find out.\n",
    "# Or, you can always look at the docs for the method.\n",
    "skimage.io.imshow(simple_image)\n",
    "plt.grid(False) # Disable matplotlib's grid lines"
   ]
  },
  {
   "cell_type": "markdown",
   "metadata": {},
   "source": [
    "We can read in image files using the `skimage.io.imread` method:"
   ]
  },
  {
   "cell_type": "code",
   "execution_count": null,
   "metadata": {},
   "outputs": [],
   "source": [
    "# Some image files (including .jpg files) have pixel values in between\n",
    "# 0 and 255 when read. We divide by 255 to scale the values between 0 and 1:\n",
    "sudoku1 = skimage.io.imread('images/sudoku1.jpg') / 255\n",
    "skimage.io.imshow(sudoku1)\n",
    "plt.grid(False) # Disable matplotlib's grid lines"
   ]
  },
  {
   "cell_type": "markdown",
   "metadata": {},
   "source": [
    "Here, we've defined a function you can use to display multiple images at once. Don't worry too much about how it works, but if you're curious we make use of matplotlib's [`subplot2grid` method](https://matplotlib.org/users/gridspec.html)."
   ]
  },
  {
   "cell_type": "code",
   "execution_count": null,
   "metadata": {
    "collapsed": true
   },
   "outputs": [],
   "source": [
    "def show_images(images, ncols=2, figsize=(10, 7), **kwargs):\n",
    "    \"\"\"\n",
    "    Shows one or more images.\n",
    "\n",
    "    images: Image or list of images.\n",
    "    ncols: Number of columns to display images in\n",
    "    \"\"\"\n",
    "    def show_image(image, axis=plt):\n",
    "        skimage.io.imshow(image, **kwargs)\n",
    "\n",
    "    if not (isinstance(images, list) or isinstance(images, tuple)):\n",
    "        images = [images]\n",
    "\n",
    "    nrows = math.ceil(len(images) / ncols)\n",
    "    ncols = min(len(images), ncols)\n",
    "\n",
    "    plt.figure(figsize=figsize)\n",
    "    for i, image in enumerate(images):\n",
    "        axis = plt.subplot2grid(\n",
    "            (nrows, ncols),\n",
    "            (i // ncols,  i % ncols),\n",
    "        )\n",
    "        axis.tick_params(bottom='off', left='off', top='off', right='off',\n",
    "                         labelleft='off', labelbottom='off')\n",
    "        axis.grid(False)\n",
    "        show_image(image, axis)"
   ]
  },
  {
   "cell_type": "markdown",
   "metadata": {},
   "source": [
    "We've put in ten images in the `images/` folder. Let's read them all in.\n",
    "\n",
    "Then, we can use the `show_images` function defined above to display them all:"
   ]
  },
  {
   "cell_type": "code",
   "execution_count": null,
   "metadata": {},
   "outputs": [],
   "source": [
    "images = [im / 255 for im in skimage.io.imread_collection('images/*')]\n",
    "show_images(images, ncols=5, figsize=(12, 5))"
   ]
  },
  {
   "cell_type": "markdown",
   "metadata": {},
   "source": [
    "### Edge Detection\n",
    "\n",
    "Notice that the images above are either images of Russian newspapers or images of [Sudoku puzzles](https://www.wikiwand.com/en/Sudoku). Let's try to make a computer program that can automatically distinguish between the two.\n",
    "\n",
    "Note that this is not a particularly easy problem for a computer. Our human eyes can easily tell whether an image contains a sudoku puzzle, but all a computer sees is the array of pixel values. Any individual pixel by itself has virtually no correlation with whether or not the picture contains a sudoku puzzle, but it looks like there are overall structural differences in the two types of pictures we see above. This is a problem of [computer vision](https://techcrunch.com/2016/11/13/wtf-is-computer-vision/), a subdiscipline of machine learning that seeks to extract information from images or video.\n",
    "\n",
    "The pictures with Sudoku puzzles seem to contain less fine details since they have less text. We can write an **edge detection** algorithm to detect this and then use it to distinguish between pictures.\n",
    "\n",
    "Here's what we're going to do:\n",
    "\n",
    "1. Find edges (pixels where the image changes from light to dark)\n",
    "2. See if the proportion of edge pixels is different between pictures of newspapers and pictures of Sudoku puzzles."
   ]
  },
  {
   "cell_type": "markdown",
   "metadata": {},
   "source": [
    "So how do we find edges? We will implement the [Canny edge detector](https://www.wikiwand.com/en/Canny_edge_detector), invented by one of UC Berkeley's very own professors, [John Canny](https://www.wikiwand.com/en/John_Canny).\n",
    "\n",
    "The algorithm works as follows:\n",
    "\n",
    "1. Blur the image to reduce noise.\n",
    "2. Compute the gradient of the image.\n",
    "3. Apply non-maximum surpression to make the edges thinner. (Optional for this project)\n",
    "4. Apply edge tracking by hysteresis. (Optional for this project)\n",
    "5. Apply cutoffs to determine final edges.\n",
    "\n",
    "We'll talk about each step in detail as it comes. This algorithm can be entirely implemented using NumPy array manipulation, making it ideal as a exercise in working with NumPy. The algorithm also demonstrates a real-world use case of partial derivatives.\n",
    "\n",
    "In this project, we hope to give you a taste of working with image data. Afterwards, you should feel very comfortable working with numerical data in NumPy and have a intuitive understanding of gradients.\n",
    "\n",
    "Finally, we'll use your edge detector on an actual dataset of images and see how you do."
   ]
  },
  {
   "cell_type": "markdown",
   "metadata": {},
   "source": [
    "### Step 0: Converting the image to grayscale\n",
    "\n",
    "Before we do anything else, let's write a function to convert images to grayscale. This allows us to preserve the overall structure of the image while making the array easier to work with.\n",
    "\n",
    "Recall that each image is in fact a 3-dimensional array. The first two dimensions correspond to the rows and columns of the image pixels, respectively. The last dimension contains the three color values for that particular pixel. We will combine each RGB triplet into a single value that measures how bright the pixel is.\n",
    "\n",
    "As an example, we want to convert this:"
   ]
  },
  {
   "cell_type": "code",
   "execution_count": null,
   "metadata": {
    "scrolled": true
   },
   "outputs": [],
   "source": [
    "simple_image"
   ]
  },
  {
   "cell_type": "markdown",
   "metadata": {},
   "source": [
    "To this:"
   ]
  },
  {
   "cell_type": "code",
   "execution_count": null,
   "metadata": {},
   "outputs": [],
   "source": [
    "simple_image_grayscale = np.array(\n",
    "    [[ 0.     ,  0.5    ,  1.     ],\n",
    "     [ 0.2125 ,  0.7154 ,  0.0721 ],\n",
    "     [ 0.46395,  0.1423 ,  0.39375]]\n",
    ")\n",
    "# The figsize argument to show_images lets you adjust the image display size\n",
    "show_images([simple_image, simple_image_grayscale], figsize=(3, 3))"
   ]
  },
  {
   "cell_type": "markdown",
   "metadata": {},
   "source": [
    "#### Question 5\n",
    "\n",
    "Write a function `to_grayscale` that takes in an 3-dimensional array corresponding to an image. It returns a new 2-dimensional array that contains the grayscale luminance (or brightness) value for each pixel, defined as:\n",
    "\n",
    "$$ \\text{Luminance} = 0.2125 R + 0.7154 G + 0.0721 B $$\n",
    "\n",
    "Where R, G, and B represent the intensities of each color in the original pixel.\n",
    "\n",
    "Then, use the `to_grayscale(image)` function to create a variable `im5_gray` that contains the grayscale version of the image at index 5 of the images list.\n",
    "\n",
    "(Why isn't the luminance just the average of the three color intensities? It has a lot to do with the fact that the human eye is much more sensitive to green light than then other two colors. [Read more here if you're interested.](https://www.wikiwand.com/en/Color_vision#/Cone_cells_in_the_human_eye))\n",
    "\n",
    "You can write this code using two for loops, but your code will be significantly easier to read and faster to run if you use [NumPy slicing](https://docs.scipy.org/doc/numpy/reference/arrays.indexing.html)."
   ]
  },
  {
   "cell_type": "code",
   "execution_count": null,
   "metadata": {
    "collapsed": true,
    "tags": [
     "student"
    ]
   },
   "outputs": [],
   "source": [
    "def to_grayscale(image):\n",
    "    '''Converts the image to grayscale.'''\n",
    "    return ...\n",
    "\n",
    "im5 = images[5]\n",
    "im5_gray = ...\n",
    "# Try using the show_images function here to display your result"
   ]
  },
  {
   "cell_type": "code",
   "execution_count": null,
   "metadata": {},
   "outputs": [],
   "source": [
    "_ = ok.grade('q05')\n",
    "_ = ok.backup()"
   ]
  },
  {
   "cell_type": "markdown",
   "metadata": {},
   "source": [
    "### Step 1: Blurring the Image to Reduce Noise\n",
    "\n",
    "An important first step before looking for edges is blurring the image. Images typically contain noise from various sources (camera quality, resolution, etc.). If we try to find edges on an image with noise, we will falsely think the noisy pixels in the image are edges. [See this blog post for a simple explanation of why blurring is important.](https://blog.drecks-provider.de/why-you-should-blur-an-image-before-processing-it-using-opencv-and-python/)\n",
    "\n",
    "We will implement a simple blur that works as follows: replace each pixel's intensity with the average of a 3x3 patch of pixels centered at the pixel. Here's an example with the original image on the left and the resulting pixel on the right.\n",
    "\n",
    "![](blurring.png)\n",
    "\n",
    "(Note that we have to decide what to do when we try to blur the edges of the image — a literal edge case. For this exercise, we use a \"clipping\" policy: pretend that the edges of the image are extended by 1 pixel in every direction by simply reusing the previous values at the image edge. We implement this behavior for you so you don't have to handle it.)"
   ]
  },
  {
   "cell_type": "markdown",
   "metadata": {},
   "source": [
    "#### Question 6\n",
    "\n",
    "Write a function `blur(image)` that takes in a grayscale image and returns a new array with the pixel values blurred according to the process described above. The resulting image should have the same dimensions as the original image. Use `somearray.shape` to check the dimensions; it returns the dimensions of `somearray`.\n",
    "\n",
    "We've implemented a `patch3(arr, i, j)` function that returns a 3x3 patch centered at `(i, j)` in the original array. It implements the clipping policy discussed above.\n",
    "\n",
    "Then, create a variable called `im5_blurred` that contains the blurred version of `im5_grayscale`."
   ]
  },
  {
   "cell_type": "code",
   "execution_count": null,
   "metadata": {
    "collapsed": true
   },
   "outputs": [],
   "source": [
    "def patch3(arr, i, j):\n",
    "    '''\n",
    "    Returns a array with shape (3, 3) containing the values in a 3x3 patch\n",
    "    centered at index (i, j) in arr.\n",
    "    '''\n",
    "    return np.take(np.take(arr, [i - 1, i, i + 1], axis=0, mode='clip'),\n",
    "                   [j - 1, j, j + 1], axis=1, mode='clip')"
   ]
  },
  {
   "cell_type": "code",
   "execution_count": null,
   "metadata": {
    "collapsed": true,
    "tags": [
     "student"
    ]
   },
   "outputs": [],
   "source": [
    "def blur(image):\n",
    "    rows, cols = image.shape\n",
    "    result = np.zeros(image.shape)\n",
    "    ...\n",
    "    return result\n",
    "\n",
    "im5_blurred = ...\n",
    "# Try using the show_images function here to display your result"
   ]
  },
  {
   "cell_type": "code",
   "execution_count": null,
   "metadata": {},
   "outputs": [],
   "source": [
    "_ = ok.grade('q06')\n",
    "_ = ok.backup()"
   ]
  },
  {
   "cell_type": "markdown",
   "metadata": {},
   "source": [
    "### Step 2: Computing the Gradient\n",
    "\n",
    "An image is a 2D grid of pixels. However, we can also think of an image as a *2-dimensional function* $ f(x, y) \\rightarrow [0, 1] $ that maps a coordinate $(x, y)$ to the corresponding pixel brightness between 0 and 1. If, for example, we plot the function as a surface, we get something that looks like:\n",
    "\n",
    "![](func.png)\n",
    "\n",
    "This implies that the same mathematical tools we have for working with multivariable functions (multivariable calculus) and arrays of numbers (linear algebra) also let us discover structure in images!\n",
    "\n",
    "In particular, let's return to our original goal: to detect edges in images. We've stated that an edge in an image is a pixel where the image has a sharp change in intensity. If we consider an image as a two variable function, we can take the **gradient** of the function to find the places where the function has the greatest change.\n",
    "\n",
    "Recall that the gradient of a two variable function is:\n",
    "\n",
    "$$\n",
    "\\nabla f(x, y) = \\begin{bmatrix}\n",
    "  \\frac{\\partial}{\\partial x} f(x, y)\\\\\n",
    "  \\frac{\\partial}{\\partial y} f(x, y)\n",
    "\\end{bmatrix}\n",
    "$$\n",
    "\n",
    "Although an image is a function, it doesn't follow a nice equation. This means we can't just take the partial derivatives of some equation; we instead have to appromixate the partial derivatives. We'll find the slope around each pixel using the following formulas:\n",
    "\n",
    "\\begin{align}\n",
    "\\frac{\\partial}{\\partial x} f(x, y) &\\approx\n",
    "  \\frac{f(x + 1, y) - f(x - 1, y)}{2} \\\\\n",
    "\\frac{\\partial}{\\partial y} f(x, y) &\\approx \n",
    "  \\frac{f(x, y + 1) - f(x, y - 1)}{2}\n",
    "\\end{align}\n",
    "\n",
    "For example, if we have the following image and we're computing the gradient at the labeled point:\n",
    "\n",
    "![](grad.png)\n",
    "\n",
    "We have:\n",
    "\n",
    "\\begin{align}\n",
    "\\frac{\\partial}{\\partial x} f(x, y) &\\approx\n",
    "  \\frac{90 - 0}{2} = 45 \\\\\n",
    "\\frac{\\partial}{\\partial y} f(x, y) &\\approx \n",
    "  \\frac{90 - 90}{2} = 0\n",
    "\\end{align}"
   ]
  },
  {
   "cell_type": "markdown",
   "metadata": {},
   "source": [
    "#### Question 7\n",
    "\n",
    "Implement a function `gradient(image)` that takes in a grayscale image and returns a list containing the x-component of the gradient and the y-component, in that order.\n",
    "\n",
    "Each component of the gradient is a 2-dimensional array of numbers. In this problem, don't attempt to compute the gradient at the edges of the image. Instead, just leave the gradients 1 pixel smaller on each side compared to the original image. For example:\n",
    "\n",
    "```python\n",
    ">>> gradient(simple_image_grayscale)\n",
    "[array([[ 0.0702]]), array([[ 0.17885]])]\n",
    "```\n",
    "\n",
    "Since `simple_image_grayscale` is a 3x3 image, there is only one place where the gradient is well defined — the center pixel of the image.\n",
    "\n",
    "Save the result of calling `gradient` on `im5_blurred` in a variable called `im5_grad`. Again, NumPy slicing will serve you well for this problem."
   ]
  },
  {
   "cell_type": "code",
   "execution_count": null,
   "metadata": {
    "collapsed": true,
    "tags": [
     "student"
    ]
   },
   "outputs": [],
   "source": [
    "def gradient(image):\n",
    "    x_grad = ...\n",
    "    y_grad = ...\n",
    "    return [x_grad, y_grad]\n",
    "\n",
    "im5_grad = ...\n",
    "# Try using the show_images function here to display your result"
   ]
  },
  {
   "cell_type": "code",
   "execution_count": null,
   "metadata": {},
   "outputs": [],
   "source": [
    "_ = ok.grade('q07')\n",
    "_ = ok.backup()"
   ]
  },
  {
   "cell_type": "markdown",
   "metadata": {
    "tags": [
     "written"
    ]
   },
   "source": [
    "#### Question 8\n",
    "\n",
    "Examine the images of the x and y components of the image gradient. Why are they different? Explain why one image appears to have lots of vertical lines and the other lots of horizontal lines."
   ]
  },
  {
   "cell_type": "markdown",
   "metadata": {
    "tags": [
     "written"
    ]
   },
   "source": [
    "*Write your answer here, replacing this text.*"
   ]
  },
  {
   "cell_type": "markdown",
   "metadata": {},
   "source": [
    "**Question 9**\n",
    "\n",
    "Write a function `mag_angle(grad)` that takes in the list of components outputted by the `grad` function. It returns a list containing the magnitude and angle in radians of each gradient point. The `np.arctan2` function will be useful for this question.\n",
    "\n",
    "Save the result of calling `mag_angle` on `im5_grad` in a variable called `im5_mag_angle`."
   ]
  },
  {
   "cell_type": "code",
   "execution_count": null,
   "metadata": {
    "collapsed": true,
    "tags": [
     "student"
    ]
   },
   "outputs": [],
   "source": [
    "def mag_angle(grad):\n",
    "    ...\n",
    "\n",
    "im5_mag_angle = ...\n",
    "# Try using the show_images function here to display your result"
   ]
  },
  {
   "cell_type": "code",
   "execution_count": null,
   "metadata": {
    "scrolled": true
   },
   "outputs": [],
   "source": [
    "_ = ok.grade('q09')\n",
    "_ = ok.backup()"
   ]
  },
  {
   "cell_type": "markdown",
   "metadata": {
    "tags": [
     "written"
    ]
   },
   "source": [
    "#### Question 10\n",
    "\n",
    "Interpret the images above. Based on what you see, why might the magnitude and angle of the gradient be useful for edge detection?"
   ]
  },
  {
   "cell_type": "markdown",
   "metadata": {
    "tags": [
     "written"
    ]
   },
   "source": [
    "*Write your answer here, replacing this text.*"
   ]
  },
  {
   "cell_type": "markdown",
   "metadata": {},
   "source": [
    "### Step 5: Applying Cutoffs\n",
    "\n",
    "(Note that we skipped steps 3 and 4 of the actual Canny edge detector. For this project those steps are optional. They might help you achieve a higher accuracy on your classifier later on, however.)\n",
    "\n",
    "**Question 11**\n",
    "\n",
    "Now, we can use your gradient magnitudes to decide which pixels in an image are edges. This is simple enough: we consider each pixel an edge pixel only if its gradient magnitude is above a cutoff value.\n",
    "\n",
    "Implement the function `edges(magnitudes, cutoff)` that takes in an array of gradient magnitudes and returns a new array that contains 1 if the magnitude was at least as the given cutoff value and 0 otherwise.\n",
    "\n",
    "Then, store the result of called `edges` on image 5's magnitudes using a cutoff of `0.02` in a variable called `im5_edges`."
   ]
  },
  {
   "cell_type": "code",
   "execution_count": null,
   "metadata": {
    "collapsed": true,
    "tags": [
     "student"
    ]
   },
   "outputs": [],
   "source": [
    "def edges(magnitudes, cutoff):\n",
    "    ...\n",
    "\n",
    "im5_edges = ...\n",
    "# Try using the show_images function here to display your result"
   ]
  },
  {
   "cell_type": "code",
   "execution_count": null,
   "metadata": {
    "collapsed": true
   },
   "outputs": [],
   "source": [
    "_ = ok.grade('q11')\n",
    "_ = ok.backup()"
   ]
  },
  {
   "cell_type": "markdown",
   "metadata": {},
   "source": [
    "## Part 3: Image Classification\n",
    "\n",
    "Congratulations! You've just implemented a basic edge detection algorithm. Now, let's use your algorithm for classification.\n",
    "\n",
    "**Question 12**\n",
    "\n",
    "Implement a function `classify` takes in a **color** image and outputs 1 if the image is a Sudoku image and 0 if not. One easy way to write this is to count the proportion of edges in the input image, then check whether that proportion exceeds a certain cutoff.\n",
    "\n",
    "For example:\n",
    "\n",
    "```python\n",
    ">>> classify(im5)\n",
    "1\n",
    "```\n",
    "\n",
    "For this question, you will get full credit if function guesses at least 8 of the 10 images in the `images` variable correctly.\n",
    "\n",
    "This is a rather open-ended problem. There are two parameters here that you should adjust:\n",
    "\n",
    "1. The cutoff for the gradient magnitude needed to count a pixel as an edge.\n",
    "2. The cutoff for the proportions of edges needed to classify as Sudoku.\n",
    "\n",
    "See if you can find a smart way to fiddle around with them until you get good values.\n",
    "\n",
    "You will then use your `classify` function to enter into a class-wide Kaggle competition for Project 1. Feel free to implement your function however you wish as long as you pass the OkPy test below."
   ]
  },
  {
   "cell_type": "code",
   "execution_count": null,
   "metadata": {
    "collapsed": true,
    "tags": [
     "student"
    ]
   },
   "outputs": [],
   "source": [
    "# You will probably find it helpful to define some helper functions here.\n",
    "\n",
    "...\n",
    "\n",
    "\n",
    "def classify(image):\n",
    "    ...\n",
    "    \n",
    "classify(im5)"
   ]
  },
  {
   "cell_type": "markdown",
   "metadata": {},
   "source": [
    "The following cell calculates the accuracy of your classifier on the original set of 10 images. Make sure you get an accuracy of at least 0.8."
   ]
  },
  {
   "cell_type": "code",
   "execution_count": null,
   "metadata": {},
   "outputs": [],
   "source": [
    "%%time\n",
    "# %%time is a Jupyter magic command that times how long a cell takes to run.\n",
    "# As a heads up, this cell takes the staff solution about 45 seconds to run.\n",
    "\n",
    "actual = np.array([0, 0, 0, 0, 0, 1, 1, 1, 1, 1])\n",
    "\n",
    "def ten_pic_accuracy(classifier_fn):\n",
    "    return (np.count_nonzero([classifier_fn(images[i]) == actual[i]\n",
    "                              for i in range(len(images))])\n",
    "                             / len(images))\n",
    "\n",
    "acc = ten_pic_accuracy(classify)\n",
    "print('Accuracy:', acc)"
   ]
  },
  {
   "cell_type": "code",
   "execution_count": null,
   "metadata": {},
   "outputs": [],
   "source": [
    "_ = ok.grade('q12')\n",
    "_ = ok.backup()"
   ]
  },
  {
   "cell_type": "markdown",
   "metadata": {},
   "source": [
    "## Submitting to Kaggle\n",
    "\n",
    "Kaggle is a website that hosts machine learning competitions. In this class, we'll use Kaggle to see how your algorithms do.\n",
    "\n",
    "We've left 50 images in the `kaggle/` folder. Running the code below will create a `kaggle.csv` file containing your predictions for each of these 50 images.\n",
    "\n",
    "You should then visit https://inclass.kaggle.com/c/ds100-fa17-project-1-sudoku/submit and upload your `kaggle.csv` file. You must get at least 84% of the images classified properly to get full 5 points possible for this part of the homework assignment. You will get 2 points for classifying at least 78% of the images correctly, and 0 points otherwise.\n",
    "\n",
    "You may now go back to your `classify` function and change it however you wish. Make sure that your OkPy tests still pass, however, so that you get credit in the autograder."
   ]
  },
  {
   "cell_type": "code",
   "execution_count": null,
   "metadata": {
    "tags": [
     "kaggle"
    ]
   },
   "outputs": [],
   "source": [
    "%%time\n",
    "\n",
    "# This took the staff about 4 minutes to run\n",
    "\n",
    "kaggle_images = skimage.io.imread_collection('kaggle/*')\n",
    "predictions = [classify(im / 255) for im in kaggle_images]\n",
    "(pd.DataFrame({'Category': predictions})\n",
    " .to_csv('kaggle.csv', index_label='Id', header=True))"
   ]
  },
  {
   "cell_type": "code",
   "execution_count": null,
   "metadata": {
    "tags": [
     "kaggle"
    ]
   },
   "outputs": [],
   "source": [
    "!head kaggle.csv"
   ]
  },
  {
   "cell_type": "markdown",
   "metadata": {},
   "source": [
    "# Submission\n",
    "\n",
    "You're done! Run the following cell to make a submission on OkPy.\n",
    "\n",
    "You can then go to www.okpy.org and verify that the submission there is what you want it to be.\n",
    "\n",
    "If you forget to run this cell in the future, we'll automatically take your latest backup as your submission.\n",
    "\n",
    "You should shortly receive an email containing the autograder score for your assignment. If you don't receive an email within 30 minutes of submitting, try again. If it still doesn't work, email your TA. **Note that the autograder will only email you once every 30 minutes.**"
   ]
  },
  {
   "cell_type": "code",
   "execution_count": null,
   "metadata": {
    "collapsed": true,
    "scrolled": true
   },
   "outputs": [],
   "source": [
    "_ = ok.submit()"
   ]
  }
 ],
 "metadata": {
  "language_info": {
   "codemirror_mode": {
    "name": "ipython",
    "version": 3
   },
   "file_extension": ".py",
   "mimetype": "text/x-python",
   "name": "python",
   "nbconvert_exporter": "python",
   "pygments_lexer": "ipython3",
   "version": "3.5.2"
  }
 },
 "nbformat": 4,
 "nbformat_minor": 2
}