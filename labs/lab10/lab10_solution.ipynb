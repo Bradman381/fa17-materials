{
 "cells": [
  {
   "cell_type": "markdown",
   "metadata": {},
   "source": [
    "# Lab 10: Introduction to Least Squares Regression and the Normal Equations\n",
    "\n",
    "\n",
    "In this lab you will implement the normal equations to estimate the parameters of a least squares regression model.  This lab will also help prepare you for the homework this week."
   ]
  },
  {
   "cell_type": "code",
   "execution_count": null,
   "metadata": {},
   "outputs": [],
   "source": [
    "# Run this cell to set up your notebook\n",
    "import numpy as np\n",
    "import pandas as pd\n",
    "import seaborn as sns\n",
    "import matplotlib.pyplot as plt\n",
    "\n",
    "%matplotlib notebook\n",
    "\n",
    "from client.api.notebook import Notebook\n",
    "ok = Notebook('lab10.ok')"
   ]
  },
  {
   "cell_type": "code",
   "execution_count": null,
   "metadata": {
    "collapsed": true
   },
   "outputs": [],
   "source": [
    "np.set_printoptions(16)\n",
    "# For instructor use only. Call this function to force refresh okpy tests\n",
    "def refresh():\n",
    "    import sys\n",
    "    keys = [k for k in sys.modules.keys() if 'ok_tests' in k]\n",
    "    for k in keys:\n",
    "        del sys.modules[k]\n",
    "    global ok\n",
    "    ok = Notebook('lab09.ok')"
   ]
  },
  {
   "cell_type": "code",
   "execution_count": null,
   "metadata": {},
   "outputs": [],
   "source": [
    "ok.auth(force=True) # Change False to True if you are getting errors authenticating"
   ]
  },
  {
   "cell_type": "markdown",
   "metadata": {},
   "source": [
    "### Creating the Data\n",
    "\n",
    "Before we implement least squares linear regression in the cloud, let's first try implementing it within this notebook.\n",
    "\n",
    "The following code downloads and plots a small toy dataset."
   ]
  },
  {
   "cell_type": "code",
   "execution_count": null,
   "metadata": {
    "collapsed": true
   },
   "outputs": [],
   "source": [
    "n = 100\n",
    "p = 2\n",
    "theta_true = np.array([-2.2, 1.0])\n",
    "intercept = 4.0 \n",
    "np.random.seed(42)\n",
    "X = np.random.rand(n, p)*2.0 - 1.0\n",
    "Y =  X @ theta_true + intercept + np.random.randn(n) * 0.2 "
   ]
  },
  {
   "cell_type": "markdown",
   "metadata": {},
   "source": [
    "Take the following plot for a spin (literally).  Drag across the plot to spin it. Notice that we added the origin in red."
   ]
  },
  {
   "cell_type": "code",
   "execution_count": null,
   "metadata": {},
   "outputs": [],
   "source": [
    "from mpl_toolkits.mplot3d import Axes3D\n",
    "fig = plt.figure(1)\n",
    "ax = fig.add_subplot(111, projection='3d')\n",
    "ax.scatter(X[:,0], X[:,1], Y)\n",
    "# Added the origin \n",
    "ax.scatter([0],[0],[0], \"o\", color='red')"
   ]
  },
  {
   "cell_type": "markdown",
   "metadata": {},
   "source": [
    "## Question 1\n",
    "\n",
    "Recall from class that when we solve the normal equations we obtain the following estimate for our linear model:\n",
    "\n",
    "$$\n",
    "\\hat{\\theta{}} = (X^T X)^{-1} (X^T y)\n",
    "$$\n",
    "\n",
    "Complete the following function to compute the parameter estimate $\\hat{\\theta{}}$:"
   ]
  },
  {
   "cell_type": "code",
   "execution_count": null,
   "metadata": {
    "collapsed": true,
    "tags": [
     "solution"
    ]
   },
   "outputs": [],
   "source": [
    "def least_squares_est(X, Y):\n",
    "    \"\"\"\n",
    "    Solve the normal equations for the data X and Y.\n",
    "    \n",
    "        X: is the covariate matrix where each row is a record \n",
    "            and each column is a feature\n",
    "        Y: is a vector containing the response values\n",
    "    \n",
    "    \n",
    "    returns the solution to the normal equations\n",
    "        inv(X.T @ X) @ (X.T @ Y)\n",
    "    \n",
    "    \"\"\"\n",
    "    # Read the documentation on this function\n",
    "    from numpy.linalg import solve    \n",
    "    return solve(X.T @ X, X.T @ Y)"
   ]
  },
  {
   "cell_type": "markdown",
   "metadata": {},
   "source": [
    "Let's look at our estimate for the model parameters:"
   ]
  },
  {
   "cell_type": "code",
   "execution_count": null,
   "metadata": {},
   "outputs": [],
   "source": [
    "theta_hat = least_squares_est(X, Y)\n",
    "theta_hat"
   ]
  },
  {
   "cell_type": "code",
   "execution_count": null,
   "metadata": {
    "collapsed": true,
    "tags": [
     "test",
     "q01"
    ]
   },
   "outputs": [],
   "source": [
    "assert len(least_squares_est(X, Y)) == 2\n",
    "assert np.isclose(np.linalg.norm(least_squares_est(X, Y) - np.array([-2.5883789105125632,  0.6953174687410612])), 0.0)"
   ]
  },
  {
   "cell_type": "markdown",
   "metadata": {},
   "source": [
    "## Question 2\n",
    "\n",
    "Let's compute the correlation coefficient:\n",
    "\n",
    "$$\n",
    "r(x,y) = \\frac{1}{n} \\sum_{i=1}^n \\frac{(x_i - \\bar{x})}{\\sigma_x}  * \n",
    "\\frac{(y_i - \\bar{y})}{\\sigma_y}\n",
    "$$\n",
    "\n",
    "where:\n",
    "\n",
    "$$\n",
    "\\sigma_x = \\sqrt{\\frac{1}{n}\\sum_{i=1}^n (x-\\bar{x})^2}\n",
    "$$\n",
    "\n",
    "and\n",
    "\n",
    "$$\n",
    "\\sigma_y = \\sqrt{\\frac{1}{n}\\sum_{i=1}^n (y-\\bar{y})^2}\n",
    "$$\n",
    "\n",
    "Complete the following function:"
   ]
  },
  {
   "cell_type": "code",
   "execution_count": null,
   "metadata": {
    "collapsed": true,
    "tags": [
     "solution"
    ]
   },
   "outputs": [],
   "source": [
    "def correlation(x, y):\n",
    "    \"\"\"\n",
    "    Compute the correlation between the vectors x and y.\n",
    "    \n",
    "        x: a 1-dimensional vector of length n\n",
    "        y: a 1-dimensional vector of length n\n",
    "        \n",
    "    return the correlation coefficient defined as above.\n",
    "    \"\"\"\n",
    "    cov = np.mean((x - np.mean(x)) * (y - np.mean(y)))\n",
    "    sigma_x = np.std(x)\n",
    "    sigma_y = np.std(y)\n",
    "    return cov / (sigma_x * sigma_y)"
   ]
  },
  {
   "cell_type": "code",
   "execution_count": null,
   "metadata": {
    "collapsed": true,
    "tags": [
     "test",
     "q02"
    ]
   },
   "outputs": [],
   "source": [
    "assert np.isclose(correlation(X[:,0], Y), -0.90739849873602996, rtol=1e-2, atol=1e-2)\n",
    "assert np.isclose(correlation(X[:,1], Y), 0.43225082378347551, rtol=1e-2, atol=1e-2)"
   ]
  },
  {
   "cell_type": "markdown",
   "metadata": {},
   "source": [
    "In the following we compute the correlation coefficient for `X[:,0]` and `X[:,1]`"
   ]
  },
  {
   "cell_type": "code",
   "execution_count": null,
   "metadata": {},
   "outputs": [],
   "source": [
    "correlation(X[:,0], Y)\n"
   ]
  },
  {
   "cell_type": "code",
   "execution_count": null,
   "metadata": {},
   "outputs": [],
   "source": [
    "correlation(X[:,1], Y)"
   ]
  },
  {
   "cell_type": "markdown",
   "metadata": {},
   "source": [
    "Which dimension has a stronger linear relationship?"
   ]
  },
  {
   "cell_type": "code",
   "execution_count": null,
   "metadata": {
    "collapsed": true,
    "tags": [
     "solution",
     "written"
    ]
   },
   "outputs": [],
   "source": [
    "q2_text = r\"\"\"Dimension 0 has stronger linear relationship\"\"\""
   ]
  },
  {
   "cell_type": "markdown",
   "metadata": {},
   "source": [
    "## Question 3\n",
    "\n",
    "How well do we fit the data?  Let's examine our prediction error.  Finish the following function to compute the root mean squared error for a given theta:\n",
    "\n",
    "$$\n",
    "RMSE = \\sqrt{\\frac{1}{n} \\sum_{i=1}^n (\\theta^T X_{i,:} - Y_i)^2}\n",
    "$$"
   ]
  },
  {
   "cell_type": "code",
   "execution_count": null,
   "metadata": {
    "collapsed": true,
    "tags": [
     "solution"
    ]
   },
   "outputs": [],
   "source": [
    "def rmse(theta, X, Y):\n",
    "    \"\"\"\n",
    "    Compute the root mean squared error for the parameters theta\n",
    "    \n",
    "        theta: the estimated parameter vector\n",
    "        X: the n by p covariate matrix\n",
    "        Y: the n response values\n",
    "    \n",
    "    return the np.sqrt of the np.mean of X.dot(theta) - Y)^2 \n",
    "    \n",
    "    \"\"\"\n",
    "    return np.sqrt(np.mean(((X @ theta) - Y)**2))"
   ]
  },
  {
   "cell_type": "code",
   "execution_count": null,
   "metadata": {
    "collapsed": true,
    "tags": [
     "test",
     "q03"
    ]
   },
   "outputs": [],
   "source": [
    "assert np.isclose(rmse(np.array([1.2, 2.3]), X, Y), 4.7053762514545463, rtol=1e-2, atol=1e-2)\n",
    "assert np.isclose(rmse(theta_true, X, Y), 4.0265834813515395, rtol=1e-2, atol=1e-2)"
   ]
  },
  {
   "cell_type": "markdown",
   "metadata": {},
   "source": [
    "Examining the error in our estimate $\\hat{\\theta{}}$"
   ]
  },
  {
   "cell_type": "code",
   "execution_count": null,
   "metadata": {},
   "outputs": [],
   "source": [
    "rmse(theta_true, X, Y)"
   ]
  },
  {
   "cell_type": "code",
   "execution_count": null,
   "metadata": {},
   "outputs": [],
   "source": [
    "rmse(theta_hat, X, Y)"
   ]
  },
  {
   "cell_type": "markdown",
   "metadata": {},
   "source": [
    "Why might the estimator have a lower error than the true theta?"
   ]
  },
  {
   "cell_type": "code",
   "execution_count": null,
   "metadata": {
    "collapsed": true
   },
   "outputs": [],
   "source": []
  },
  {
   "cell_type": "markdown",
   "metadata": {},
   "source": [
    "## Question 4\n",
    "\n",
    "Currently our model has the form:\n",
    "\n",
    "$$\n",
    "y = x_0  \\theta_0 + x_1 \\theta_1\n",
    "$$\n",
    "\n",
    "However we might want to add an additional intercept term:\n",
    "\n",
    "$$\n",
    "y = x_0  \\theta_0 + x_1 \\theta_1 + \\mathbf{\\theta_3}\n",
    "$$\n",
    "\n",
    "A common \"trick\" to add an extra constant term is to add an extra dimension (column) to our covariate matrix $X$:\n",
    "\n",
    "$$\n",
    "\\textbf{addConst}(X) = \n",
    "\\left(\n",
    "\\begin{matrix}\n",
    "X_{0,0} & X_{0,1} & \\color{red}{1.0} \\\\\n",
    "X_{1,0} & X_{1,1} & \\color{red}{1.0} \\\\\n",
    "\\ldots & \\ldots & \\ldots \\\\\n",
    "X_{n,0} & X_{n,1} & \\color{red}{1.0}\n",
    "\\end{matrix}\n",
    "\\right)\n",
    "$$\n",
    "\n",
    "Complete the following function.  You may want to use `np.hstack` and `np.ones((n,1))`.\n"
   ]
  },
  {
   "cell_type": "code",
   "execution_count": null,
   "metadata": {
    "collapsed": true,
    "tags": [
     "solution"
    ]
   },
   "outputs": [],
   "source": [
    "def add_const(X):\n",
    "    \"\"\"\n",
    "    Add an extra column of 1.0 to n by p matrix.\n",
    "    \n",
    "        X: an n by p matrix\n",
    "        return: an n by (p+1) matrix with the last column \n",
    "            containing 1.0\n",
    "    \"\"\"\n",
    "    return np.hstack([X, np.ones((X.shape[0], 1))])"
   ]
  },
  {
   "cell_type": "code",
   "execution_count": null,
   "metadata": {
    "collapsed": true,
    "tags": [
     "test",
     "q04"
    ]
   },
   "outputs": [],
   "source": [
    "assert add_const(X).shape == (100, 3)\n",
    "assert add_const(X)[:,2].sum() == 100.0"
   ]
  },
  {
   "cell_type": "markdown",
   "metadata": {},
   "source": [
    "## Question 5\n",
    "\n",
    "Use the above code to compute the parameters for the model:\n",
    "\n",
    "$$\n",
    "y = x_0  \\theta_0 + x_1 \\theta_1 + \\mathbf{\\theta_3}\n",
    "$$\n"
   ]
  },
  {
   "cell_type": "code",
   "execution_count": null,
   "metadata": {
    "tags": [
     "solution"
    ]
   },
   "outputs": [],
   "source": [
    "theta_hat_with_intercept = least_squares_est(add_const(X), Y)"
   ]
  },
  {
   "cell_type": "code",
   "execution_count": null,
   "metadata": {
    "collapsed": true,
    "tags": [
     "test",
     "q05"
    ]
   },
   "outputs": [],
   "source": [
    "assert np.isclose(theta_hat_with_intercept, np.array([-2.1661333225821946,  1.035494603213118 ,  4.0238157334512685]), rtol=1e-2, atol=1e-2).all()"
   ]
  },
  {
   "cell_type": "markdown",
   "metadata": {},
   "source": [
    "Let's compare the estimator parameters with the true parameters (which we know because we fabricated the data)."
   ]
  },
  {
   "cell_type": "code",
   "execution_count": null,
   "metadata": {},
   "outputs": [],
   "source": [
    "theta_hat_with_intercept"
   ]
  },
  {
   "cell_type": "code",
   "execution_count": null,
   "metadata": {},
   "outputs": [],
   "source": [
    "print(\"True theta_0 and theta_1\", theta_true)\n",
    "print(\"True intercept (theta_2)\", intercept)"
   ]
  },
  {
   "cell_type": "markdown",
   "metadata": {},
   "source": [
    "How did we do?  The numbers should be relatively close however there was noise in our data so it is possible that we are slightly off.  What about the RMSE?"
   ]
  },
  {
   "cell_type": "code",
   "execution_count": null,
   "metadata": {},
   "outputs": [],
   "source": [
    "print(\"RMSE with intercept term:\", \n",
    "      rmse(theta_hat_with_intercept, add_const(X), Y))"
   ]
  },
  {
   "cell_type": "code",
   "execution_count": null,
   "metadata": {},
   "outputs": [],
   "source": [
    "print(\"RMSE without intercept:\", \n",
    "      rmse(theta_hat, X, Y))"
   ]
  },
  {
   "cell_type": "markdown",
   "metadata": {},
   "source": [
    "That is a substantial improvement!"
   ]
  },
  {
   "cell_type": "markdown",
   "metadata": {},
   "source": [
    "## Question 6\n",
    "\n",
    "Uses `sns.distplot` to plot the distribution of the residual for our estimator with an intercept term.  Note if there is a any skew"
   ]
  },
  {
   "cell_type": "code",
   "execution_count": null,
   "metadata": {
    "tags": [
     "solution",
     "written"
    ]
   },
   "outputs": [],
   "source": [
    "plt.figure(2)\n",
    "resid = (add_const(X) @ theta_hat_with_intercept - Y)\n",
    "sns.distplot(resid)"
   ]
  },
  {
   "cell_type": "markdown",
   "metadata": {},
   "source": [
    "## Question 7 \n",
    "\n",
    "Calculate the sum of residual in question 6. Show that the sum is roughly zero."
   ]
  },
  {
   "cell_type": "code",
   "execution_count": null,
   "metadata": {
    "collapsed": true,
    "tags": [
     "solution"
    ]
   },
   "outputs": [],
   "source": [
    "sum_resid = sum(resid)"
   ]
  },
  {
   "cell_type": "code",
   "execution_count": null,
   "metadata": {
    "tags": [
     "test",
     "q07"
    ]
   },
   "outputs": [],
   "source": [
    "assert np.isclose(sum_resid, 2.3070434451710753e-13)"
   ]
  },
  {
   "cell_type": "markdown",
   "metadata": {},
   "source": [
    "# Submitting your assignment\n",
    "\n",
    "Congratulations, you're done with this lab!\n",
    "\n",
    "Run the next cell to run all the tests at once."
   ]
  },
  {
   "cell_type": "code",
   "execution_count": null,
   "metadata": {
    "collapsed": true
   },
   "outputs": [],
   "source": [
    "_ = ok.grade_all()    "
   ]
  },
  {
   "cell_type": "markdown",
   "metadata": {},
   "source": [
    "Now, run the cell below to submit your assignment to OkPy. The autograder should email you shortly with your autograded score. The autograder will only run once every 30 minutes.\n",
    "\n",
    "**If you're failing tests on the autograder but pass them locally**, you should simulate the autograder by doing the following:\n",
    "\n",
    "1. In the top menu, click Kernel -> Restart and Run all.\n",
    "2. Run the cell above to run each OkPy test.\n",
    "\n",
    "**You must make sure that you pass all the tests when running steps 1 and 2 in order.** If you are still failing autograder tests, you should double check your results."
   ]
  },
  {
   "cell_type": "code",
   "execution_count": null,
   "metadata": {
    "collapsed": true
   },
   "outputs": [],
   "source": [
    "_ = ok.submit()"
   ]
  }
 ],
 "metadata": {
  "anaconda-cloud": {},
  "kernelspec": {
   "display_name": "Python 3",
   "language": "python",
   "name": "python3"
  },
  "language_info": {
   "codemirror_mode": {
    "name": "ipython",
    "version": 3
   },
   "file_extension": ".py",
   "mimetype": "text/x-python",
   "name": "python",
   "nbconvert_exporter": "python",
   "pygments_lexer": "ipython3",
   "version": "3.6.1"
  },
  "toc": {
   "colors": {
    "hover_highlight": "#DAA520",
    "navigate_num": "#000000",
    "navigate_text": "#333333",
    "running_highlight": "#FF0000",
    "selected_highlight": "#FFD700",
    "sidebar_border": "#EEEEEE",
    "wrapper_background": "#FFFFFF"
   },
   "moveMenuLeft": true,
   "nav_menu": {
    "height": "174px",
    "width": "252px"
   },
   "navigate_menu": true,
   "number_sections": true,
   "sideBar": true,
   "threshold": 4,
   "toc_cell": false,
   "toc_section_display": "block",
   "toc_window_display": false,
   "widenNotebook": false
  }
 },
 "nbformat": 4,
 "nbformat_minor": 1
}