{
 "cells": [
  {
   "cell_type": "markdown",
   "metadata": {},
   "source": [
    "# Homework 3: EDA of Bike Sharing\n",
    "\n",
    "## Introduction\n",
    "\n",
    "This homework has four goals: \n",
    "\n",
    "* to learn how to read plain text delimited data into pandas\n",
    "* to gain experience preparing data for analysis\n",
    "* to use EDA to learn about your data \n",
    "* to learn how to make informative plots\n",
    "\n",
    "This assignment includes both specific tasks to perform and open-ended questions to investigate. The open-ended questions ask you to think creatively and critically in how you plot the data and summarize information gleaned from these visualizations.\n",
    "\n",
    "There are 4 parts to this assignment: \n",
    "- data preparation\n",
    "- exploring the distribution of riders\n",
    "- exploring the relationship between time and rider counts\n",
    "- and exploring the relationship between weather and rider counts. \n",
    "\n",
    "The data preparation section gives you specific tasks to perform. Then in each of the next three sections, you are asked to create 2 plots. The first plot is described in some detail and the second plot is one of your choosing.\n",
    "\n",
    "Be sure to choose a plot that provides additional information about the distributions and relationships in the data. Remember that we are interested in how ride sharing works.  Therefore, plots that, for example examine the weather in DC *without reference to ride sharing are not interesting*.\n",
    "\n",
    "**Be sure that your plots have informative titles, axis labels, and legends.**"
   ]
  },
  {
   "cell_type": "code",
   "execution_count": null,
   "metadata": {
    "collapsed": true,
    "tags": [
     "solution"
    ]
   },
   "outputs": [],
   "source": [
    "# For instructor use only. Call this function to force refresh okpy tests\n",
    "def refresh():\n",
    "    import sys\n",
    "    keys = [k for k in sys.modules.keys() if 'ok_tests' in k]\n",
    "    for k in keys:\n",
    "        del sys.modules[k]\n",
    "    global ok\n",
    "    ok = Notebook('hw3.ok')"
   ]
  },
  {
   "cell_type": "code",
   "execution_count": null,
   "metadata": {},
   "outputs": [],
   "source": [
    "# Run this cell to set up your notebook\n",
    "\n",
    "import seaborn as sns\n",
    "import csv\n",
    "import numpy as np\n",
    "import pandas as pd\n",
    "import matplotlib.pyplot as plt\n",
    "%matplotlib inline\n",
    "sns.set()\n",
    "\n",
    "from IPython.display import display, Latex, Markdown\n",
    "from client.api.notebook import Notebook\n",
    "ok = Notebook('hw3.ok')\n"
   ]
  },
  {
   "cell_type": "code",
   "execution_count": null,
   "metadata": {},
   "outputs": [],
   "source": [
    "ok.auth(force=True) # Change False to True if you are getting errors authenticating"
   ]
  },
  {
   "cell_type": "code",
   "execution_count": null,
   "metadata": {
    "collapsed": true,
    "tags": [
     "solution"
    ]
   },
   "outputs": [],
   "source": [
    "## This can be used by TAs to fix students directories if needed.\n",
    "# # Log into OkPy\n",
    "# import os\n",
    "# auth_refresh = os.path.join(os.path.expanduser('~'), '.config', 'ok', 'auth_refresh')\n",
    "# if os.path.exists(auth_refresh):\n",
    "#     os.remove(auth_refresh)"
   ]
  },
  {
   "cell_type": "markdown",
   "metadata": {},
   "source": [
    "## Loading Bike Sharing Data\n",
    "The data we are exploring is data on bike sharing in Washington D.C and can be found in `data/bikeshare.txt`.\n",
    "\n",
    "The variables in this data frame are defined as:\n",
    "```\n",
    "instant: record index\n",
    "dteday : date\n",
    "season : season (1:spring, 2:summer, 3:fall, 4:winter)\n",
    "yr : year (0: 2011, 1:2012)\n",
    "mnth : month ( 1 to 12)\n",
    "hr : hour (0 to 23)\n",
    "holiday : whether day is holiday or not\n",
    "weekday : day of the week\n",
    "workingday : if day is neither weekend nor holiday\n",
    "weathersit :\n",
    "    1: Clear or partly cloudy\n",
    "    2: Mist + clouds\n",
    "    3: Light Snow or Rain\n",
    "    4: Heavy Rain or Snow\n",
    "temp : Normalized temperature in Celsius (divided by 41)\n",
    "atemp: Normalized feeling temperature in Celsius (divided by 50)\n",
    "hum: Normalized percent humidity (divided by 100)\n",
    "windspeed: Normalized wind speed (divided by 67)\n",
    "casual: count of casual users\n",
    "registered: count of registered users\n",
    "cnt: count of total rental bikes including casual and registered\n",
    "```"
   ]
  },
  {
   "cell_type": "markdown",
   "metadata": {},
   "source": [
    "In the following we load the raw data into the dataframe `bike`. "
   ]
  },
  {
   "cell_type": "code",
   "execution_count": null,
   "metadata": {},
   "outputs": [],
   "source": [
    "bike = pd.read_csv(\"data/bikeshare.txt\")\n",
    "bike.head()"
   ]
  },
  {
   "cell_type": "markdown",
   "metadata": {},
   "source": [
    "## Data Preparation\n",
    "Many of the variables that are numeric/integer should be factors. These include holiday, weekday, workingday, and weathersit. In the following question we convert these 4 variables to factors and use appropriate labels for the levels. In particular use the 3 letter label, e.g., Sun, Mon, … for weekday. You may simply use yes/no for holiday and workingday. \n",
    "\n",
    "In this exercise we will **overwrite the corresponding variables in the data frame.** However be sure to write a comment in your code about the transformation and leave the underlying datafile `data/bikeshare.txt` unmodified.\n",
    "\n",
    "### Question 1\n",
    "\n",
    "#### Question 1a (Decoding `holiday`)\n",
    "Figure out whether a 0 means yes or no for the holiday column of each row (there are fewer holidays than other days). Translate the numeric entry into a `'yes'` or `'no'` and set `num_holidays` equal to the number of entries in the table corresponding to a holiday. "
   ]
  },
  {
   "cell_type": "code",
   "execution_count": null,
   "metadata": {
    "tags": [
     "solution"
    ]
   },
   "outputs": [],
   "source": [
    "#SOLUTION CELL\n",
    "bike['holiday'].replace({0:'no', 1:'yes'}, inplace=True)\n",
    "num_holidays = bike['holiday'].value_counts()['yes']\n",
    "num_holidays"
   ]
  },
  {
   "cell_type": "code",
   "execution_count": null,
   "metadata": {},
   "outputs": [],
   "source": [
    "_ = ok.grade('q01a')\n",
    "_ = ok.backup()"
   ]
  },
  {
   "cell_type": "markdown",
   "metadata": {},
   "source": [
    "#### Question 1b (Decoding `weekday`, `workingday`, and `weathersit`)\n",
    "\n",
    "\n",
    "Finish decoding the `weekday`, `workingday`, and `weathersit` fields:\n",
    "\n",
    "1. **`'weekday'`:** It turns out that Monday is the day with the most holidays.  Use that information to change the `'weekday'` column to use the 3 letter label (`'Sun'`, `'Mon'`, ...) instead of its current numerical values.\n",
    "1. **`'workingday'`:** Convert to `'yes'` and `'no'`.\n",
    "1. **`'weathersit'`:** You should replace each value with one of `'Clear'`, `'Mist'`, `'Light'`, or `'Heavy'`."
   ]
  },
  {
   "cell_type": "code",
   "execution_count": null,
   "metadata": {
    "tags": [
     "solution"
    ]
   },
   "outputs": [],
   "source": [
    "bike['weekday'].replace({0:'Sun', 1:'Mon', 2:'Tue', 3:'Wed', 4:'Thu', 5:'Fri', 6:'Sat'}, inplace=True)\n",
    "bike['workingday'].replace({0:'no', 1:'yes'}, inplace=True)\n",
    "bike['weathersit'].replace({1:'Clear', 2:'Mist', 3:'Light', 4:'Heavy'}, inplace=True)\n",
    "bike.head()"
   ]
  },
  {
   "cell_type": "code",
   "execution_count": null,
   "metadata": {},
   "outputs": [],
   "source": [
    "_ = ok.grade('q01b')\n",
    "_ = ok.backup()"
   ]
  },
  {
   "cell_type": "markdown",
   "metadata": {},
   "source": [
    "#### Question 1c (Computing Daily Total Counts)\n",
    "\n",
    "The granularity of this data is at the hourly level.  However, for some of the analysis we will also want to compute daily statistics.  In particular, in the next few questions we will be analyzing the number of daily registered and unregistered users.\n",
    "\n",
    "Construct a table (dataframe) consisting of:\n",
    "* `'casual'`: total casual riders for each day\n",
    "* `'registered'`: total registered riders for each day\n",
    "* `'workingday'`: whether that day is a working day or not (yes or no)\n",
    "\n",
    "You will want to use the `groupby` and `aggregate` functions as well as the `sum` and `last` aggregation operators. "
   ]
  },
  {
   "cell_type": "code",
   "execution_count": null,
   "metadata": {
    "tags": [
     "solution"
    ]
   },
   "outputs": [],
   "source": [
    "daily_counts = bike.groupby(['dteday']).aggregate({\"casual\": sum, \"registered\": sum, \"workingday\": \"last\"})\n",
    "daily_counts.head()"
   ]
  },
  {
   "cell_type": "code",
   "execution_count": null,
   "metadata": {},
   "outputs": [],
   "source": [
    "_ = ok.grade('q01c')\n",
    "_ = ok.backup()"
   ]
  },
  {
   "cell_type": "markdown",
   "metadata": {},
   "source": [
    "## Exploring the Distribution of Riders\n",
    "\n",
    "Let's begin by comparing the distribution of the daily counts of casual and registered riders.  "
   ]
  },
  {
   "cell_type": "markdown",
   "metadata": {},
   "source": [
    "### Question 2\n",
    "#### Question 2a\n",
    "\n",
    "Use the `sns.distplot` function to create a plot that overlays the distribution of the daily counts of casual and registered users. The temporal granularity of the records should be daily counts, which you should have after completing question 1c."
   ]
  },
  {
   "cell_type": "code",
   "execution_count": null,
   "metadata": {
    "tags": [
     "solution"
    ]
   },
   "outputs": [],
   "source": [
    "sns.distplot(daily_counts['casual'], label='casual')\n",
    "sns.distplot(daily_counts['registered'],  label='registered', color='green')\n",
    "plt.legend()\n",
    "plt.xlabel(\"Rider Count\")"
   ]
  },
  {
   "cell_type": "markdown",
   "metadata": {},
   "source": [
    "#### Question 2b\n",
    "\n",
    "Describe the differences you notice between the density curves for casual and registered riders. Be sure to consider features such as modes, symmetry and skewness, tails, gaps and unusual values. Also comment on the spread of the distributions."
   ]
  },
  {
   "cell_type": "code",
   "execution_count": null,
   "metadata": {
    "tags": [
     "solution",
     "written"
    ]
   },
   "outputs": [],
   "source": [
    "q2b_answer = r\"\"\"\n",
    "\n",
    "\n",
    "The casual riders distribution has a sharp peak at 1000 that may be bimodal. \n",
    "This distribution is skewed right and has a long right tail with a small set of daily counts around 2500.\n",
    "\n",
    "The distribution of registered riders has a more symmetric distribution centered around almost 4000 daily riders.\n",
    "This distribution does not have heavy skew. It's spread is much wider than the casual riders. \n",
    "\n",
    "\"\"\"\n",
    "\n",
    "display(Markdown(q2b_answer))"
   ]
  },
  {
   "cell_type": "markdown",
   "metadata": {},
   "source": [
    "### Question 2c\n",
    "\n",
    "The density plots do not show us how the daily counts for registered and casual riders vary together. Use `sns.lmplot` to make a scatter plot to investigate the relationship between casual and registered counts. Color the points in the scatterplot according to whether or not the day is working day. There are many points in the scatter plot so make them small  to help with over plotting."
   ]
  },
  {
   "cell_type": "code",
   "execution_count": null,
   "metadata": {
    "tags": [
     "solution",
     "written"
    ]
   },
   "outputs": [],
   "source": [
    "sns.set(font_scale=1.5)\n",
    "sns.lmplot(x=\"casual\", y=\"registered\", hue=\"workingday\",\n",
    "           data=bike, fit_reg=False, size=8, scatter_kws={\"s\": 10})"
   ]
  },
  {
   "cell_type": "markdown",
   "metadata": {},
   "source": [
    "### Question 2d\n",
    "\n",
    "What does this scatterplot seem to reveal about the relationship (if any) between casual and registered riders and whether or not the day is on the weekend?\n",
    "Why might we be concerned with overplotting in examining this relationship? \n"
   ]
  },
  {
   "cell_type": "code",
   "execution_count": null,
   "metadata": {
    "tags": [
     "solution",
     "written"
    ]
   },
   "outputs": [],
   "source": [
    "q2d_answer = r\"\"\"\n",
    "\n",
    "There appears to be a linear relationship between the counts for registered and casual riders,\n",
    "and this relationship depends on whether the day is a work day or a weekend day.\n",
    "\n",
    "Given the overplotting, it is difficult to discern the relationships because\n",
    "for example, we can't see if there might be blue points that have been \n",
    "plotted over by green points and vice versa.\n",
    "\n",
    "\n",
    "\"\"\"\n",
    "\n",
    "display(Markdown(q2d_answer))"
   ]
  },
  {
   "cell_type": "markdown",
   "metadata": {},
   "source": [
    "## Question 3\n",
    "\n",
    "### Question 3a Bivariate Kernel Density Plot\n",
    " \n",
    "The scatter plot you made in question 2c makes clear the separation between the work days and weekend days.  However, the overplotting\n",
    "makes it difficult to see the density of the joint counts. To address this\n",
    "issue, let's try visualizing the data with another technique, the kernel density plot.\n",
    "\n",
    "You will want to read up on the documentation for `sns.kdeplot` which can be found at https://seaborn.pydata.org/generated/seaborn.kdeplot.html\n",
    "\n",
    "The result we wish to achieve should be a plot that looks like this:\n",
    "\n",
    "<img src='bivariate_kde_of_daily_rider_types.png' >\n",
    "\n",
    "Making this plot can be complicated so we will provide a walkthrough below, feel free to use whatever method you wish however if you do not want to follow the walkthrough."
   ]
  },
  {
   "cell_type": "code",
   "execution_count": null,
   "metadata": {
    "tags": [
     "solution",
     "written"
    ]
   },
   "outputs": [],
   "source": [
    "ind = daily_counts['workingday'] == \"yes\"\n",
    "\n",
    "ax = sns.kdeplot(daily_counts.loc[ind, \"casual\"], daily_counts.loc[ind, \"registered\"], \n",
    "            cmap=\"Reds\",  shade_lowest=False, label=\"weekday\")\n",
    "ax = sns.kdeplot(daily_counts.loc[~ind, \"casual\"], daily_counts.loc[~ind, \"registered\"],\n",
    "            cmap=\"Blues\", shade_lowest=False)\n",
    "\n",
    "plt.savefig(\"bivariate_kde_of_daily_rider_types.png\")"
   ]
  },
  {
   "cell_type": "markdown",
   "metadata": {},
   "source": [
    "#### Question 3b\n",
    "\n",
    "What does the contour plot reveal about the relationship between casual and registered riders for both weekdays and weekends? How is it an improvement over the scatter plot you created in Q2c?"
   ]
  },
  {
   "cell_type": "code",
   "execution_count": null,
   "metadata": {
    "tags": [
     "solution",
     "written"
    ]
   },
   "outputs": [],
   "source": [
    "q3b_answer = r\"\"\"\n",
    "\n",
    "On the weekends, the casual and registered riders have a roughly linear relationship. \n",
    "During the work week, the relationship also appears roughly linear,\n",
    "but the slope is much higher. \n",
    "\n",
    "Here we can see the shape of the relationship because high density regions \n",
    "are revealed that we were not able to see due to overplotting in the scatter plot.\n",
    "\n",
    "\"\"\"\n",
    "\n",
    "display(Markdown(q3b_answer))"
   ]
  },
  {
   "cell_type": "markdown",
   "metadata": {},
   "source": [
    "#### Question 3c\n",
    "\n",
    "As an alternative approach, construct the following set of three plots where the main plot shows the contours of daily counts for registered and casual riders and the two \"margin\" plots provide the univariate distribution of each of these variables. \n",
    "\n",
    "<img src=\"joint_distribution_of_daily_rider_types.png\"/>\n",
    "\n",
    "You might find `sns.jointplot` helpful. You will want to explore the `kind` parameter in `jointplot` to achieve the plot above. Also, consider using `set_axis_labels` to rename your axes."
   ]
  },
  {
   "cell_type": "code",
   "execution_count": null,
   "metadata": {
    "tags": [
     "solution",
     "written"
    ]
   },
   "outputs": [],
   "source": [
    "sns.jointplot(x=\"casual\", y=\"registered\", data=daily_counts,  kind=\"kde\")\\\n",
    "   .set_axis_labels('Daily Count Casual Riders', 'Daily Count Registered Riders')\n",
    "\n",
    "plt.savefig(\"joint_distribution_of_daily_rider_types.png\")"
   ]
  },
  {
   "cell_type": "markdown",
   "metadata": {},
   "source": [
    "## Exploring Ride Sharing and Time\n",
    "\n",
    "### Question 4a\n",
    "\n",
    "Plot number of riders for each hour of each day in the month of June in 2011. \n",
    "\n",
    "Make sure to add descriptive x-axis and y-axis labels and create a legend to distinguish the line for casual riders and the line for registered riders. The end result should look like this:\n",
    "\n",
    "<img src=\"june_riders.png\" width='800px'/>"
   ]
  },
  {
   "cell_type": "code",
   "execution_count": null,
   "metadata": {
    "tags": [
     "written",
     "solution"
    ]
   },
   "outputs": [],
   "source": [
    "june = bike[(bike[\"mnth\"]==6) & (bike[\"yr\"]==0)].copy()\n",
    "june['day'] = (june['instant'] - june['instant'].min())/24.0\n",
    "june = june.set_index(\"day\")\n",
    "\n",
    "# plt.figure(figsize=(10, 7))\n",
    "_ = june[[\"casual\", \"registered\"]].plot()\n",
    "_ = plt.legend(loc=2)\n",
    "_ = plt.ylabel(\"Number of Riders\")\n",
    "_ = plt.xlabel(\"Day of the Month\")\n",
    "\n",
    "## Uncomment this to save new plot for question.\n",
    "plt.savefig(\"june_riders.png\")"
   ]
  },
  {
   "cell_type": "markdown",
   "metadata": {},
   "source": [
    "#### Question 4b\n",
    "\n",
    "This plot has several interesting features. How do the number of casual and registered riders compare for different days of the month? What is an interesting trend and pattern you notice between the lines?"
   ]
  },
  {
   "cell_type": "code",
   "execution_count": null,
   "metadata": {
    "tags": [
     "solution",
     "written"
    ]
   },
   "outputs": [],
   "source": [
    "q4b_answer = r\"\"\"\n",
    "\n",
    "We can see several things in this line plot. We see daily patterns in rental. \n",
    "With the weekends having far fewer registered users and more casual riders. \n",
    "The number of casual riders is always less than the number of registerred riders, \n",
    "but on the week end, the counts are much closer together. \n",
    "\n",
    "\"\"\"\n",
    "\n",
    "display(Markdown(q4b_answer))"
   ]
  },
  {
   "cell_type": "markdown",
   "metadata": {},
   "source": [
    "## Question 5 (Understanding Daily Patterns)\n",
    "\n",
    "Let's examine the behavior or riders by plotting the average number of riders for each hour of the day over the entire dataset stratified by rider type.  \n",
    "\n",
    "Your plot should look like the following:\n",
    "\n",
    "<img src=\"diurnal_bikes.png\" width=\"800px\"/>"
   ]
  },
  {
   "cell_type": "code",
   "execution_count": null,
   "metadata": {
    "tags": [
     "solution",
     "written"
    ]
   },
   "outputs": [],
   "source": [
    "# plt.figure(figsize=(10, 7))\n",
    "data = bike.groupby(\"hr\")[[\"casual\",\"registered\"]].mean()\n",
    "_ = data[[\"casual\", \"registered\"]].plot()\n",
    "_ = plt.legend(loc=2)\n",
    "_ = plt.xlabel(\"Hour of the Day\")\n",
    "_ = plt.ylabel(\"Average Count\")\n",
    "\n",
    "## Uncomment this to render the instruction picture\n",
    "plt.savefig(\"diurnal_bikes.png\")"
   ]
  },
  {
   "cell_type": "markdown",
   "metadata": {},
   "source": [
    "#### Question 5b\n",
    "\n",
    "What can you observe from the plot, what does those peaks mean?"
   ]
  },
  {
   "cell_type": "code",
   "execution_count": null,
   "metadata": {
    "tags": [
     "solution",
     "written"
    ]
   },
   "outputs": [],
   "source": [
    "q5b_answer = r\"\"\"\n",
    "\n",
    "In the above plot we see strong evidence of daily patterns in both datasets.  \n",
    "The casual riders appear to ride throughout the day with peak hours in the mid-afternoon. \n",
    "Alternatively, while the registered riders also ride more during the day than at night there are\n",
    "very strong spikes during the morning and evening commute hours with a small bump during lunch.  \n",
    "\n",
    "\"\"\"\n",
    "\n",
    "display(Markdown(q5b_answer))"
   ]
  },
  {
   "cell_type": "markdown",
   "metadata": {},
   "source": [
    "## Exploring Ride Sharing and Weather\n",
    "### Question 6\n",
    "Now let's examine how the weather is affecting rider's behavior. First let's look at how the proportion of casual riders changes as weather changes.\n",
    "\n",
    "#### Question 6a\n",
    "Create a new column `propCasual` in the `bike` dataframe representing the proportion of casual riders comparing to the total number of riders.\n",
    "\n"
   ]
  },
  {
   "cell_type": "code",
   "execution_count": null,
   "metadata": {
    "collapsed": true,
    "tags": [
     "solution"
    ]
   },
   "outputs": [],
   "source": [
    "bike[\"propCasual\"] = bike[\"casual\"]/bike[\"cnt\"]"
   ]
  },
  {
   "cell_type": "code",
   "execution_count": null,
   "metadata": {},
   "outputs": [],
   "source": [
    "_ = ok.grade('q06a')\n",
    "_ = ok.backup()"
   ]
  },
  {
   "cell_type": "markdown",
   "metadata": {},
   "source": [
    "#### Question 6b\n",
    "In order to examine the relationship between proportion of casual riders and temerature, we can make some bivariate scatterplot using `sns.swarmplot` or `sns.lmplot`. We can even use color/hue to encode the information about day of week. Run the following cells to create such plots. (Plot contains lots of points, so it may a while for it to render)\n"
   ]
  },
  {
   "cell_type": "code",
   "execution_count": null,
   "metadata": {},
   "outputs": [],
   "source": [
    "sns.lmplot(data=bike,x=\"temp\",y=\"propCasual\",hue=\"weekday\",scatter_kws={\"s\": 20},size=10)"
   ]
  },
  {
   "cell_type": "markdown",
   "metadata": {},
   "source": [
    "As you can see from the scatterplot, many points are overlapping. Though the plot can show some trends, it would be hard to verify your findings. Therefore we could fit some curves to summarize the data and plot the curves instead.\n",
    "\n",
    "Basically you will need to make a plot like this: Fit and plot curves using data from different weekdays. \n",
    "\n",
    "<img src=\"curveplot_temp_propCasual.png\" width=500px>\n",
    "\n",
    "You will need to use the function [`statsmodels.nonparametric.smoothers_lowess.lowess`](http://www.statsmodels.org/dev/generated/statsmodels.nonparametric.smoothers_lowess.lowess.html) to fit a curve from two sequences `x` and `y`. You may find the example below helpful.\n",
    "\n"
   ]
  },
  {
   "cell_type": "code",
   "execution_count": null,
   "metadata": {},
   "outputs": [],
   "source": [
    "from statsmodels.nonparametric.smoothers_lowess import lowess\n",
    "# Make noisy data\n",
    "xobs = np.sort(np.random.rand(100)*4.0 -2)\n",
    "yobs = np.exp(xobs) + np.random.randn(100)/2.0\n",
    "plt.plot(xobs, yobs, 'o', label = \"Raw Data\")\n",
    "\n",
    "# Predict 'smoothed' valued for observations\n",
    "ysmooth = lowess(yobs, xobs, return_sorted=False)\n",
    "plt.plot(xobs, ysmooth, 'r-', label =\"Smoothed Estimator\")\n",
    "plt.legend()"
   ]
  },
  {
   "cell_type": "code",
   "execution_count": null,
   "metadata": {
    "tags": [
     "solution",
     "written"
    ]
   },
   "outputs": [],
   "source": [
    "from statsmodels.nonparametric.smoothers_lowess import lowess\n",
    "days = ['Sun','Mon', 'Tues', 'Wed', 'Thu', 'Fri', 'Sat']\n",
    "plt.figure(figsize=(8,8))\n",
    "for day in days:\n",
    "    z=lowess(bike[(bike[\"weekday\"]==day)][\"propCasual\"],bike[bike[\"weekday\"]==day][\"temp\"],return_sorted=False)    \n",
    "    plt.plot(bike[bike[\"weekday\"]==day][\"temp\"],z,label = day)\n",
    "plt.xlabel(\"Temperature\")\n",
    "plt.ylabel(\"propCasual\")\n",
    "plt.legend()\n",
    "#plt.savefig(\"curveplot_temp_propCasual\")"
   ]
  },
  {
   "cell_type": "markdown",
   "metadata": {},
   "source": [
    "#### Question 6c\n",
    "What can you discover from the curve plot? How is the propCasual changing?"
   ]
  },
  {
   "cell_type": "code",
   "execution_count": null,
   "metadata": {
    "tags": [
     "solution",
     "written"
    ]
   },
   "outputs": [],
   "source": [
    "#SOLUTION CELL\n",
    "q6c_answer = r\"\"\"\n",
    "1. As temperature increase, the proportion of casual riders increase as well.\n",
    "2. Weekends (Saturday, Sunday) have higher proportion of casual riders\n",
    "\"\"\"\n",
    "\n",
    "display(Markdown(q6c_answer))"
   ]
  },
  {
   "cell_type": "code",
   "execution_count": null,
   "metadata": {},
   "outputs": [],
   "source": [
    "list(bike['weekday'].iloc[::2000])"
   ]
  },
  {
   "cell_type": "markdown",
   "metadata": {},
   "source": [
    "## Submission\n",
    "\n",
    "Run the cell below to run all the OkPy tests at once:"
   ]
  },
  {
   "cell_type": "code",
   "execution_count": null,
   "metadata": {},
   "outputs": [],
   "source": [
    "import os\n",
    "print(\"Running all tests...\")\n",
    "_ = [ok.grade(q[:-3]) for q in os.listdir(\"ok_tests\") if q.startswith('q')]"
   ]
  },
  {
   "cell_type": "markdown",
   "metadata": {},
   "source": [
    "Now, run the cell below to submit your assignment to OkPy. The autograder should email you shortly with your autograded score. The autograder will only run once every 30 minutes.\n",
    "\n",
    "**If you're failing tests on the autograder but pass them locally**, you should simulate the autograder by doing the following:\n",
    "\n",
    "1. In the top menu, click Kernel -> Restart and Run all.\n",
    "2. Run the cell above to run each OkPy test.\n",
    "\n",
    "**You must make sure that you pass all the tests when running steps 1 and 2 in order.** If you are still failing autograder tests, you should double check your results."
   ]
  },
  {
   "cell_type": "code",
   "execution_count": null,
   "metadata": {},
   "outputs": [],
   "source": [
    "_ = ok.submit()"
   ]
  }
 ],
 "metadata": {
  "kernelspec": {
   "display_name": "Python 3",
   "language": "python",
   "name": "python3"
  },
  "language_info": {
   "codemirror_mode": {
    "name": "ipython",
    "version": 3
   },
   "file_extension": ".py",
   "mimetype": "text/x-python",
   "name": "python",
   "nbconvert_exporter": "python",
   "pygments_lexer": "ipython3",
   "version": "3.6.1"
  }
 },
 "nbformat": 4,
 "nbformat_minor": 2
}