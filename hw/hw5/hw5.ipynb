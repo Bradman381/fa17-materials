{
 "cells": [
  {
   "cell_type": "markdown",
   "metadata": {},
   "source": [
    "# Homework 5: SQL, FEC Data, and Small Donors\n",
    "\n",
    "## Due: 11:59pm Tuesday, November 7\n",
    "\n",
    "\n",
    "In this homework, we're going to explore the Federal Election\n",
    "Commission's data on the money exchanged during the 2016 election.\n",
    "\n",
    "This homework has two main parts:\n",
    "\n",
    "1. Answering questions and computing descriptive statistics on the data\n",
    "2. Conducting a hypothesis test\n",
    "\n",
    "This is very similar to what you've done before in this class. However, in this\n",
    "homework almost all of our computations will be done using SQL."
   ]
  },
  {
   "cell_type": "markdown",
   "metadata": {},
   "source": [
    "## Getting Started\n",
    "\n",
    "For this assignment, you're going to use a popular cloud services provider: Heroku. This will give you some experience provisioning a database in the cloud and working on that database from your computer.\n",
    "\n",
    "Since the free tier of Heroku's Postgres service limits users to 10,000 rows of data, we've provided a subset of the FEC dataset for you to work with.\n",
    "\n",
    "If you're interested, you can download and load the entire dataset from\n",
    "http://www.fec.gov/finance/disclosure/ftpdet.shtml.  It is about 4GB and contains around 24 million rows. (With Heroku and other cloud services, it is relatively straightforward to rent clusters of machines to work on much larger datasets.  In particular, it would be easy to rerun your analyses in this assignment on the full dataset.)\n",
    "\n",
    "## If you've already done this for lab08, you do not have to follow these steps again. Otherwise you can get duplicate data in your database"
   ]
  },
  {
   "cell_type": "markdown",
   "metadata": {},
   "source": [
    "### Provisioning the Postgres DB\n",
    "\n",
    "1. Visit https://signup.heroku.com/postgres-home-button and sign up for an account\n",
    "if you don't have one already.\n",
    "2. Now, install the Heroku CLI: https://devcenter.heroku.com/articles/heroku-cli.\n",
    "Then, run `heroku login` to log into Heroku from your CLI.\n",
    "3. Now, visit https://dashboard.heroku.com/apps and click **New -> App**. Name the app\n",
    "whatever you want.\n",
    "4. You should be sent to the app details page. Click **Resources** in the navbar, then\n",
    "in the **Add-on** search bar, type \"Postgres\". You should be able to select **Heroku\n",
    "Postgres**. Make sure the free tier (**Hobby Dev**) is selected and click **Provision**. Now\n",
    "you should see **Heroku Postgres :: Database** in your **Add-ons** list."
   ]
  },
  {
   "cell_type": "markdown",
   "metadata": {},
   "source": [
    "### Loading the data into the Heroku DB\n",
    "\n",
    "(1) Run the lines below in your terminal to install necessary libraries. (If you're running the jupyter notebook in the ds100 environment, the following 3 commands need to be ran in ds100 environment as well)\n",
    "\n",
    "    conda install -y psycopg2\n",
    "    conda install -y postgresql\n",
    "    pip install ipython-sql"
   ]
  },
  {
   "cell_type": "markdown",
   "metadata": {},
   "source": [
    "(2) Click the **Heroku Postgres :: Database** link in your app's **Add-ons** list.\n",
    "\n",
    "(3) In the **Heroku Data** page you got redirected to, you should see the name of your\n",
    "database. You can click on the **Setting** panel, then scroll down to **Administration** and click **View Credentials**. These are the\n",
    "credentials that allow you to connect to the database. The last entry of the list\n",
    "contains a line that looks like:\n",
    "\n",
    "        heroku pg:psql db_name --app app_name\n",
    "\n",
    " In your terminal, take that command and add \"`< fec.sql`\" to the end\n",
    " to get something like: (You need to run this command in the folder which contains the fec.sql file. The file comes with the zip file of this homework)  \n",
    "\n",
    "### ** Make sure you only run this ONCE, if you did it for lab, don't do it for homework**\n",
    "\n",
    "        heroku pg:psql db_name --app app_name < fec.sql\n",
    "        \n",
    "        \n",
    " Run that command. It will run the commands in `fec.sql`, which load the dataset into the database.\n",
    " Now you should be able to run the command without the \"`< fec.sql`\" to\n",
    " have a postgres prompt. Try typing \"`\\d+`\" at the prompt. You should get\n",
    " something like:\n",
    "     \n",
    "        ds100-hw4-db::DATABASE=> \\d+\n",
    "                               List of relations\n",
    "         Schema |           Name           |   Type   |     Owner\n",
    "        --------+--------------------------+----------+----------------\n",
    "         public | cand                     | table    | vibrgrsqevmzkj\n",
    "         public | comm                     | table    | vibrgrsqevmzkj\n",
    "         public | ds100grades              | table    | vibrgrsqevmzkj\n",
    "         public | ds100grades_recordid_seq | sequence | vibrgrsqevmzkj\n",
    "         public | ds100weights             | table    | vibrgrsqevmzkj\n",
    "         public | indiv_sample             | table    | vibrgrsqevmzkj\n",
    "         public | indiv_sample_top         | table    | vibrgrsqevmzkj\n",
    "         public | students                 | table    | vibrgrsqevmzkj\n",
    "        (8 rows)\n",
    "\n",
    "Congrats! You now have a Postgres database running containing the data you need\n",
    "for this project."
   ]
  },
  {
   "cell_type": "markdown",
   "metadata": {},
   "source": [
    "# Part 1: Descriptive Statistics"
   ]
  },
  {
   "cell_type": "code",
   "execution_count": null,
   "metadata": {},
   "outputs": [],
   "source": [
    "# Run this cell to set up your notebook\n",
    "\n",
    "import numpy as np\n",
    "import pandas as pd\n",
    "%matplotlib inline\n",
    "import matplotlib.pyplot as plt\n",
    "import seaborn as sns\n",
    "import sqlalchemy\n",
    "sns.set()\n",
    "\n",
    "!pip install -U okpy\n",
    "from client.api.notebook import Notebook"
   ]
  },
  {
   "cell_type": "code",
   "execution_count": null,
   "metadata": {},
   "outputs": [],
   "source": [
    "ok = Notebook('hw5.ok')\n",
    "ok.auth(force=False) # Change False to True if you are getting errors authenticating"
   ]
  },
  {
   "cell_type": "markdown",
   "metadata": {},
   "source": [
    "Now, let's connect to your Postgres database. On your Heroku Postgres details,\n",
    "look at the credentials for the database. Take the long URI in the credentials and\n",
    "replace the portion of the code that reads `\"replace_me\"` with the URI.\n",
    "\n",
    "It should start with `postgres://`."
   ]
  },
  {
   "cell_type": "code",
   "execution_count": null,
   "metadata": {
    "for_assignment_type": "student",
    "tags": [
     "student"
    ]
   },
   "outputs": [],
   "source": [
    "my_URI = 'replace_me'\n",
    "%load_ext sql\n",
    "%sql $my_URI\n",
    "engine = sqlalchemy.create_engine(my_URI)\n",
    "connection = engine.connect()"
   ]
  },
  {
   "cell_type": "markdown",
   "metadata": {},
   "source": [
    "## Table Descriptions\n",
    "\n",
    "Here is a list of the tables in the database.  Each table links to the documentation on the [FEC page](http://www.fec.gov/finance/disclosure/ftpdet.shtml) for the dataset.\n",
    "\n",
    "Note that the table names here are slightly different from the ones in lecture. Consult the FEC page\n",
    "for the descriptions of the tables to find out what the correspondence is.\n",
    "\n",
    "- [`cand`](http://www.fec.gov/finance/disclosure/metadata/DataDictionaryCandidateMaster.shtml): Candidates table. Contains names and party affiliation.\n",
    "- [`comm`](http://www.fec.gov/finance/disclosure/metadata/DataDictionaryCommitteeMaster.shtml): Committees table. Contains committee names and types.\n",
    "- [`indiv_sample`](http://www.fec.gov/finance/disclosure/metadata/DataDictionaryContributionsbyIndividuals.shtml): Sample of individual contributions from Berkeley.\n",
    "- [`indiv_sample_top`](http://www.fec.gov/finance/disclosure/metadata/DataDictionaryContributionsbyIndividuals.shtml): Sample of individual contributions from the top contributors at Berkeley.\n"
   ]
  },
  {
   "cell_type": "markdown",
   "metadata": {},
   "source": [
    "## Writing SQL queries\n",
    "\n",
    "You can write SQL directly in the notebook by using the `%sql` magic, as demonstrated in the next cell.\n",
    "\n",
    "Be careful when doing this.\n",
    "If you try to run a SQL query that returns a lot of rows (100k or more is a good rule of thumb)\n",
    "your browser will probably crash.\n",
    "\n",
    "This is why in this homework, we will strongly prefer using SQL as much as\n",
    "possible, only materializing the SQL queries when they are small.\n",
    "\n",
    "**Because of this, your queries should work even as the size of your\n",
    "data goes into the terabyte range! This is the primary advantage of working\n",
    "with SQL as opposed to only dataframes.**"
   ]
  },
  {
   "cell_type": "code",
   "execution_count": null,
   "metadata": {},
   "outputs": [],
   "source": [
    "# We use `LIMIT 5` to avoid displaying a huge table.\n",
    "# Although our tables shouldn't get too large to display,\n",
    "# this is generally good practice when working in the\n",
    "# notebook environment.  Jupyter notebooks don't handle\n",
    "# very large outputs well. \n",
    "%sql SELECT * from indiv_sample LIMIT 5"
   ]
  },
  {
   "cell_type": "markdown",
   "metadata": {},
   "source": [
    "For longer queries, you can save your query into a string, then use it in the\n",
    "`%sql` statement. The `$query` in the `%sql` statement pulls in the value in\n",
    "the Python variable `query`."
   ]
  },
  {
   "cell_type": "code",
   "execution_count": null,
   "metadata": {},
   "outputs": [],
   "source": [
    "query = '''\n",
    "SELECT cand_id, cand_name\n",
    "FROM cand\n",
    "WHERE cand_pty_affiliation = 'DEM'\n",
    "LIMIT 5\n",
    "'''\n",
    "\n",
    "%sql $query"
   ]
  },
  {
   "cell_type": "markdown",
   "metadata": {},
   "source": [
    "In addition, you can assign the SQL statement to a variable and then call `.DataFrame()` on it to get a Pandas DataFrame.  \n",
    "\n",
    "However, it will often be more efficient to express your computation directly in SQL.  For this homework, we will be grading your SQL expressions so be sure to do all computation in SQL (unless otherwise requested)."
   ]
  },
  {
   "cell_type": "code",
   "execution_count": null,
   "metadata": {},
   "outputs": [],
   "source": [
    "res = %sql select * from cand limit 5\n",
    "res_df = res.DataFrame()\n",
    "res_df['cand_id']"
   ]
  },
  {
   "cell_type": "markdown",
   "metadata": {},
   "source": [
    "### Question 1a\n",
    "\n",
    "We are interested in finding the individuals from Berkeley that donated large sums. To begin to answer this question, we will look at the `indiv_sample` table. We'll find all the transactions that exceed \\$3,000. However, if there are a lot of transactions like that, it might not be useful to list them all.  So before actually finding the transactions, find out how many such transactions there are. Use only SQL to compute the answer.\n",
    "\n",
    "(It should be a table with a single column called **`count`** and a single entry, the number of transactions.)  \n",
    "\n",
    "We will be grading the query string `query_q1a`.  You may modify our template but the result should contain the same information with the same names."
   ]
  },
  {
   "cell_type": "code",
   "execution_count": null,
   "metadata": {
    "for_assignment_type": "student",
    "tags": [
     "student"
    ]
   },
   "outputs": [],
   "source": [
    "# complete the query string\n",
    "query_q1a = \"\"\"\n",
    "SELECT ...\n",
    "FROM ...\n",
    "WHERE ...\n",
    "\"\"\"\n",
    "q1a = %sql $query_q1a\n",
    "q1a"
   ]
  },
  {
   "cell_type": "code",
   "execution_count": null,
   "metadata": {
    "tags": [
     "q01a",
     "test"
    ]
   },
   "outputs": [],
   "source": [
    "_ = ok.grade('q01a')\n",
    "_ = ok.backup()"
   ]
  },
  {
   "cell_type": "markdown",
   "metadata": {},
   "source": [
    "### Question 1b\n",
    "Having seen that there aren't too many transactions that exceed \\$3,000, let's find them all.  Using only SQL, construct a table containing the committee ID, contributor's name, and the transaction amount, for transactions that exceed $3,000 dollars.  Sort the transactions in decreasing order by amount. If two contributors contain the same transaction amount, sort by alphabetical order of their names.\n",
    "\n",
    "We will be grading the query string `query_q1b`.  You may modify our template but the result should contain the same information with the same names."
   ]
  },
  {
   "cell_type": "code",
   "execution_count": null,
   "metadata": {
    "for_assignment_type": "student",
    "tags": [
     "student"
    ]
   },
   "outputs": [],
   "source": [
    "# complete the query string\n",
    "query_q1b = \"\"\"\n",
    "SELECT \n",
    "    ... AS committee_id,\n",
    "    ... AS name,\n",
    "    ... AS transaction_amt\n",
    "FROM ...\n",
    "WHERE ...\n",
    "ORDER BY ...\n",
    "\"\"\"\n",
    "\n",
    "q1b = %sql $query_q1b\n",
    "q1b"
   ]
  },
  {
   "cell_type": "code",
   "execution_count": null,
   "metadata": {
    "tags": [
     "test",
     "q01b"
    ]
   },
   "outputs": [],
   "source": [
    "_ = ok.grade('q01b')\n",
    "_ = ok.backup()"
   ]
  },
  {
   "cell_type": "markdown",
   "metadata": {},
   "source": [
    "### Question 1c\n",
    "Of course, only looking at individual transactions could be misleading, since each contributor can make several transactions. A more interesting question is: How much did each contributor give *in total*?  Find the total transaction amounts after grouping by the name.  This time, just use `LIMIT 20` to limit your results to the top 20 total donations. Sort the results in descending order by total contribution amount. Break ties by alphabetical order of name as in the previous question.\n",
    "\n",
    "Do you see any names that are familiar?\n",
    "\n",
    "We will be grading the query string `query_q1c`.  You may modify our template but the result should contain the same information with the same names."
   ]
  },
  {
   "cell_type": "code",
   "execution_count": null,
   "metadata": {
    "for_assignment_type": "student",
    "tags": [
     "student"
    ]
   },
   "outputs": [],
   "source": [
    "# complete the query string\n",
    "query_q1c = '''\n",
    "SELECT \n",
    "    ... AS name,\n",
    "    ... AS total_transaction_amt \n",
    "FROM indiv_sample \n",
    "GROUP BY ... \n",
    "ORDER BY ... DESC\n",
    "LIMIT ...\n",
    "'''\n",
    "q1c = %sql $query_q1c\n",
    "q1c"
   ]
  },
  {
   "cell_type": "code",
   "execution_count": null,
   "metadata": {
    "tags": [
     "test",
     "q01c"
    ]
   },
   "outputs": [],
   "source": [
    "_ = ok.grade('q01c')\n",
    "_ = ok.backup()"
   ]
  },
  {
   "cell_type": "markdown",
   "metadata": {},
   "source": [
    "### Question 2a\n",
    "\n",
    "Another interesting thing is to see what is the distribution of contributors by occupation? Let's first compute how many distinct occupations occur in the dataset. You may need to use the `DISTINCT` keyword to solve the problem."
   ]
  },
  {
   "cell_type": "code",
   "execution_count": null,
   "metadata": {
    "tags": [
     "student"
    ]
   },
   "outputs": [],
   "source": [
    "query_q2a = '''\n",
    "SELECT \n",
    "    ...\n",
    "FROM indiv_sample \n",
    "'''\n",
    "q2a = %sql $query_q2a\n",
    "q2a"
   ]
  },
  {
   "cell_type": "code",
   "execution_count": null,
   "metadata": {
    "tags": [
     "q02a",
     "test"
    ]
   },
   "outputs": [],
   "source": [
    "_ = ok.grade('q02a')\n",
    "_ = ok.backup()"
   ]
  },
  {
   "cell_type": "markdown",
   "metadata": {},
   "source": [
    "### Question 2b \n",
    " Write a SQL query which computes for each occupation the number of transactions in the indiv_sample table. Display the top 20 results in descending order by count. \n",
    "\n",
    "We will be grading the query string `query_q2b`.  You may modify our template but the result should contain the same information with the same names."
   ]
  },
  {
   "cell_type": "code",
   "execution_count": null,
   "metadata": {
    "for_assignment_type": "student",
    "tags": [
     "student"
    ]
   },
   "outputs": [],
   "source": [
    "# complete the query string\n",
    "query_q2b = '''\n",
    "SELECT \n",
    "    ... AS occupation, \n",
    "    ... AS count\n",
    "FROM ...\n",
    "...\n",
    "...\n",
    "LIMIT ...\n",
    "'''\n",
    "q2b = %sql $query_q2b\n",
    "q2b"
   ]
  },
  {
   "cell_type": "code",
   "execution_count": null,
   "metadata": {
    "tags": [
     "q02b",
     "test"
    ]
   },
   "outputs": [],
   "source": [
    "_ = ok.grade('q02b')\n",
    "_ = ok.backup()"
   ]
  },
  {
   "cell_type": "markdown",
   "metadata": {},
   "source": [
    "### Questions 2c\n",
    "Compute the average transaction amount for each occupation, and sort them in descending order. Display the top 10 results."
   ]
  },
  {
   "cell_type": "code",
   "execution_count": null,
   "metadata": {
    "tags": [
     "student"
    ]
   },
   "outputs": [],
   "source": [
    "# complete the query string\n",
    "query_q2c = '''\n",
    "SELECT \n",
    "    ... AS occupation, \n",
    "    ... AS avg_amount,\n",
    "    ... AS count\n",
    "FROM indiv_sample \n",
    "...\n",
    "...\n",
    "LIMIT ...\n",
    "'''\n",
    "q2c = %sql $query_q2c\n",
    "q2c"
   ]
  },
  {
   "cell_type": "code",
   "execution_count": null,
   "metadata": {
    "tags": [
     "test",
     "q02c"
    ]
   },
   "outputs": [],
   "source": [
    "_ = ok.grade('q02c')\n",
    "_ = ok.backup()"
   ]
  },
  {
   "cell_type": "markdown",
   "metadata": {},
   "source": [
    "### Questions 2d\n",
    "You may find that the top results only contains 1 or 2 transaction which are not useful. So we should only keep the reulsts that have more than 10 transcations. This time, you should use a nested `SELECT` to apply the filter on the results from q2c. After that, display the top 10 occupations that mave the largest average transaction amount.\n"
   ]
  },
  {
   "cell_type": "code",
   "execution_count": null,
   "metadata": {
    "tags": [
     "student"
    ]
   },
   "outputs": [],
   "source": [
    "# complete the query string\n",
    "query_q2d = '''\n",
    "SELECT \n",
    "    ... AS occupation, \n",
    "    ... AS amount,\n",
    "    ... AS count\n",
    "FROM\n",
    "    (SELECT \n",
    "        ... AS occupation, \n",
    "        ... AS amount,\n",
    "        ... AS count\n",
    "    FROM indiv_sample \n",
    "    ...\n",
    "    ...) AS results\n",
    "...\n",
    "...\n",
    "'''\n",
    "q2d = %sql $query_q2d\n",
    "q2d"
   ]
  },
  {
   "cell_type": "code",
   "execution_count": null,
   "metadata": {
    "tags": [
     "test",
     "q02d"
    ]
   },
   "outputs": [],
   "source": [
    "_ = ok.grade('q02d')\n",
    "_ = ok.backup()"
   ]
  },
  {
   "cell_type": "markdown",
   "metadata": {},
   "source": [
    "### Questions 2e\n",
    "In the previous queries, we compute the average transaction amount. But since each contributor can make several transactions, this doesn't tell us much. In stead, we should compute the average amount that a contributor made for each type of occupation. To achieve this, let's first group the transactions by name to compute the total amount for each individual, which is similar to q1c. But this time, we should `SELECT` the occupation as well. Display the top 10 results order by total_amount."
   ]
  },
  {
   "cell_type": "code",
   "execution_count": null,
   "metadata": {
    "tags": [
     "student"
    ]
   },
   "outputs": [],
   "source": [
    "# complete the query string\n",
    "query_q2e = '''\n",
    "SELECT \n",
    "    ... AS occupation,\n",
    "    ... AS name,\n",
    "    ... AS total_amount\n",
    "FROM indiv_sample \n",
    "...\n",
    "...\n",
    "...\n",
    "'''\n",
    "q2e = %sql $query_q2e\n",
    "q2e"
   ]
  },
  {
   "cell_type": "code",
   "execution_count": null,
   "metadata": {
    "tags": [
     "test",
     "q02e"
    ]
   },
   "outputs": [],
   "source": [
    "_ = ok.grade('q02e')\n",
    "_ = ok.backup()"
   ]
  },
  {
   "cell_type": "markdown",
   "metadata": {},
   "source": [
    "### Question 2f\n",
    "Let's continue with 2e, after computing the total amount for each individual. We can compute the average total_amount for each occupation type. Again, we should filter out the occupations that have small counts. Therefore, you should only select the top 10 occupations order by the average total_amount, with the constrains that the number of contributors in that occupation should be large than 5.\n"
   ]
  },
  {
   "cell_type": "code",
   "execution_count": null,
   "metadata": {
    "tags": [
     "student"
    ]
   },
   "outputs": [],
   "source": [
    "# complete the query string\n",
    "query_q2f = '''\n",
    "SELECT \n",
    "    ... AS occupation,\n",
    "    ... AS avg_amount,\n",
    "    ... AS count\n",
    "FROM\n",
    "    (SELECT \n",
    "        ...\n",
    "        ... \n",
    "        ... \n",
    "     FROM\n",
    "        (SELECT \n",
    "            ... AS occupation\n",
    "            ... AS total_amount\n",
    "         FROM indiv_sample \n",
    "         ... \n",
    "        ) AS result1\n",
    "        ...\n",
    "        ...\n",
    "    ) AS result2\n",
    "...\n",
    "...\n",
    "'''\n",
    "q2f = %sql $query_q2f\n",
    "q2f"
   ]
  },
  {
   "cell_type": "code",
   "execution_count": null,
   "metadata": {
    "tags": [
     "test",
     "q02f"
    ]
   },
   "outputs": [],
   "source": [
    "_ = ok.grade('q02f')\n",
    "_ = ok.backup()"
   ]
  },
  {
   "cell_type": "markdown",
   "metadata": {},
   "source": [
    "### Question 3\n",
    "Now let's examine the committees that appear in the `indiv_sample` table, with the information from the `comm` table. First let's take a look of the `comm` table."
   ]
  },
  {
   "cell_type": "code",
   "execution_count": null,
   "metadata": {},
   "outputs": [],
   "source": [
    "%sql select * from comm limit 5"
   ]
  },
  {
   "cell_type": "markdown",
   "metadata": {},
   "source": [
    "### Questions 3a\n",
    "Let's first groupby the transactions in the `indiv_sample` table with `cmte_id` column (committee id), then count how many transactions and how much total amount of contribution there are for each `cmte_id`. Select the top 5 committee id order by the transactions count."
   ]
  },
  {
   "cell_type": "code",
   "execution_count": null,
   "metadata": {
    "tags": [
     "student"
    ]
   },
   "outputs": [],
   "source": [
    "query_q3a='''\n",
    "SELECT\n",
    "    ... AS committee_id,\n",
    "    ... AS total_amount,\n",
    "    ... AS count\n",
    "FROM indiv_sample\n",
    "...\n",
    "...\n",
    "...\n",
    "'''\n",
    "q3a = %sql $query_q3a\n",
    "q3a\n"
   ]
  },
  {
   "cell_type": "code",
   "execution_count": null,
   "metadata": {
    "tags": [
     "test",
     "q03a"
    ]
   },
   "outputs": [],
   "source": [
    "_ = ok.grade('q03a')\n",
    "_ = ok.backup()"
   ]
  },
  {
   "cell_type": "markdown",
   "metadata": {},
   "source": [
    "### Questions 3b\n",
    "Only showing the committee id doesn't tell us much. Let's also select the committee information by joining with the `comm` table using the `cmite_id` field.\n",
    "\n",
    "You will extend the query we have from q3a and then perform a `JOIN` with the `comm` table. Select extra committee information such as committee name, party_affiliation, city and state from `comm`. Select the top 10 committees order by transaction count."
   ]
  },
  {
   "cell_type": "code",
   "execution_count": null,
   "metadata": {
    "tags": [
     "student"
    ]
   },
   "outputs": [],
   "source": [
    "query_q3b = '''\n",
    "WITH cmte_count AS\n",
    "(\n",
    "  SELECT \n",
    "      ... AS cmte_id,\n",
    "      ... AS total_amount,\n",
    "      ... AS count\n",
    "  FROM indiv_sample \n",
    "  ...\n",
    ")\n",
    "SELECT \n",
    "    ... AS cmte_name, \n",
    "    ... AS party_affiliation,\n",
    "    ... AS city,\n",
    "    ... AS state,\n",
    "    ... AS total_amount,\n",
    "    ... AS count\n",
    "FROM comm c ... JOIN cmte_count i ON ...\n",
    "...\n",
    "...\n",
    "'''\n",
    "q3b = %sql $query_q3b\n",
    "q3b\n"
   ]
  },
  {
   "cell_type": "code",
   "execution_count": null,
   "metadata": {
    "tags": [
     "test",
     "q03b"
    ]
   },
   "outputs": [],
   "source": [
    "_ = ok.grade('q03b')\n",
    "_ = ok.backup()"
   ]
  },
  {
   "cell_type": "markdown",
   "metadata": {},
   "source": [
    "### Question 3c\n",
    "From the results in q3b, it seems most of the party affiliation are DEM. So let's count the actual distribution of the party affiliation. Select all the different committee id from `indiv_sample`, joining with the `comm` table. Then group the results by party_affiliation and count how many committees there are for each party_affiliation. Order the results by committee count."
   ]
  },
  {
   "cell_type": "code",
   "execution_count": null,
   "metadata": {
    "tags": [
     "student"
    ]
   },
   "outputs": [],
   "source": [
    "query_q3c = '''\n",
    "WITH cmte AS\n",
    "(\n",
    "  SELECT \n",
    "      ... AS cmte_id\n",
    "  FROM indiv_sample \n",
    ")\n",
    "SELECT \n",
    "    ... AS party_affiliation,\n",
    "    ... AS count\n",
    "FROM ...\n",
    "...\n",
    "...\n",
    "'''\n",
    "q3c = %sql $query_q3c\n",
    "q3c\n"
   ]
  },
  {
   "cell_type": "code",
   "execution_count": null,
   "metadata": {
    "tags": [
     "test",
     "q03c"
    ]
   },
   "outputs": [],
   "source": [
    "_ = ok.grade('q03c')\n",
    "_ = ok.backup()"
   ]
  },
  {
   "cell_type": "markdown",
   "metadata": {},
   "source": [
    "# Part 2: A Permutation Test in SQL\n",
    "\n",
    "In this part, we're going to perform a hypothesis test using a permutation test. We'll perform nearly all our operations in SQL.\n",
    "\n",
    "Here's our question: **Is there a difference in the proportion of donations made by small donors (under \\$200) in Berkeley to Hillary Clinton's and Bernie Sanders' campaigns?**\n",
    "\n",
    "**Probability Model:** To formulate a null hypothesis, we must consider the how the data are generated, i.e., we need to have a probability model for how the data arose.  We know that the sample was taken at random from the collection of all donations from Berkeley donors. We argue that Clinton attracts small donors at the same rate as Sanders. Then, given the proportion of donors in the combined sample of Clinton and Sanders donors, it's  just by chance that the proportion for Sanders and the proportion for Clinton don't match. \n",
    "\n",
    "With this model, we can figure out (approximate) the probability that the difference between these proportions would be as large or larger than the observed difference. To do this, we use a permuation test. \n",
    "\n",
    "**Permutation Test:**  In the permuation test, we simply mix up the small and large donors, and then tally the number of small donors to Clinton and the number to Sanders. We keep both the total number of donors to Clinton and the total number of donors to Sanders the same as in the sample, and we compare the two proportions by taking their difference. Essentially, we can think of this mixing as permuting the labels (\"Clinton donor\" and \"Sanders donor\") on all of the donors in our sample. For each random permutation, we tally the proportion of small donors to Clinton and Sanders and take their difference. After many permutations, we can examine the distribution of differences to see how likely it was to have observed our sample's difference. \n",
    "\n",
    "**Formal Hypothesis:** Now that we have a better understanding of the probability model, we formulate the null hypotheis as follows:\n",
    "\n",
    "**$H_o$:** Clinton and Sanders attract the same proportion of small donors. Any observed difference in our sample is simply due to chance variation.\n",
    "\n",
    "**$H_A$:**  The difference is real. \n",
    "\n",
    "Note: We might consider a *one-sided* alternative in this siutation. A one-sided alternative would be that Sanders' proportion is larger than Clinton's. Why would we do this?  Sanders made it part of his campaign that he was funded entirely by small donoations and that he wasn't obligated to `big money.' For this reason, we might be interested only in the side that shows Sanders having a greater proportion than Clinton, and not vice versa. \n",
    "\n",
    "For a review of permutation tests, we suggest looking over [this section on A/B testing](https://www.inferentialthinking.com/chapters/16/2/ab-testing.html) from the Data 8 textbook. Lecture #13 on Hypothesis testing includes an example of a permutation test. \n",
    "\n",
    "\n",
    "In this part, our skeletons will be minimal; it is your responsibility to use the right statements to answer the questions."
   ]
  },
  {
   "cell_type": "markdown",
   "metadata": {},
   "source": [
    "### Question 4\n",
    "\n",
    "Before we begin, please think about and answer the following questions.\n",
    "\n",
    "**For each question, state \"Yes\" or \"No\", followed by a one-sentence explanation.**\n",
    "\n",
    "**(a)** If we were working with the entire FEC dataset instead of a sample,\n",
    "would we still conduct a hypothesis test? Why or why not?\n",
    "\n",
    "**(b)** Let's suppose we find that in our sample the difference in the proportion of money coming from\n",
    "small donations by Berkeley donors to Hillary and Bernie's campaign is 0.3. Would\n",
    "we still need to conduct a hypothesis test? Why or why not?\n",
    "\n",
    "**(c)** Let's suppose we find that in our sample the difference in the proportion of money coming from\n",
    "small donations by Berkeley donors to Hillary and Bernie's campaign is 0. Would\n",
    "we still need to conduct a hypothesis test? Why or why not?\n"
   ]
  },
  {
   "cell_type": "markdown",
   "metadata": {
    "for_assignment_type": "student",
    "tags": [
     "student",
     "written",
     "q04"
    ]
   },
   "source": [
    "**(a)** Enter in your answer for (a) here, replacing this sentence.\n",
    "\n",
    "**(b)** Enter in your answer for (b) here, replacing this sentence.\n",
    "\n",
    "**(c)** Enter in your answer for (c) here, replacing this sentence."
   ]
  },
  {
   "cell_type": "markdown",
   "metadata": {},
   "source": [
    "### Question 5\n",
    "\n",
    "As discussed, we've taken a simple random sample of 2000 rows of the original FEC data for individual contributions that only include contributions from Berkeley. This sample is stored in the table `indiv_sample`.\n",
    "\n",
    "The individual contributions of donors are linked to committees, not candidates directly. Hillary's primary committee was called `HILLARY FOR AMERICA`, and Bernie's was `BERNIE 2016`.\n",
    "\n",
    "Fill in the SQL query below to compute a SQL view called `contribs` of all the contributions for each\n",
    "candidate's committee. Views are like tables. However, instead of storing the rows in the database, Postgres will recompute the values in the view each time you query it.\n",
    "\n",
    "The resulting view should contain three columns:\n",
    "\n",
    "1. `name`: The names of the each contributor\n",
    "2. `transaction_amt`: The amount of each contribution\n",
    "3. `cmte_nm`: The name of the committee that received the contribution (either `HILLARY FOR AMERICA` or `BERNIE 2016`).\n",
    "\n",
    "Order your result by `transaction_amt` in descending order, breaking ties using `name` in alphabetical order.\n",
    "\n",
    "We will be grading you on the query string `query_q5`.  You may modify our template but the result should contain the same information with the same names."
   ]
  },
  {
   "cell_type": "code",
   "execution_count": null,
   "metadata": {
    "for_assignment_type": "student",
    "tags": [
     "student"
    ]
   },
   "outputs": [],
   "source": [
    "# Fill in the query\n",
    "query_q5 = \"\"\"\n",
    "CREATE OR REPLACE TEMP VIEW contribs AS\n",
    "SELECT ...\n",
    "FROM ...\n",
    "WHERE ...\n",
    "    AND ...\n",
    "ORDER BY ...\n",
    "\"\"\"\n",
    "\n",
    "%sql DROP VIEW IF EXISTS contribs CASCADE\n",
    "%sql $query_q5\n",
    "%sql SELECT * FROM contribs LIMIT 5"
   ]
  },
  {
   "cell_type": "code",
   "execution_count": null,
   "metadata": {
    "tags": [
     "test",
     "q05"
    ]
   },
   "outputs": [],
   "source": [
    "_ = ok.grade('q05')\n",
    "_ = ok.backup()"
   ]
  },
  {
   "cell_type": "markdown",
   "metadata": {},
   "source": [
    "You might notice that the maximum donation is \\$2700. See if you can use Google to find out why."
   ]
  },
  {
   "cell_type": "markdown",
   "metadata": {},
   "source": [
    "### Question 6\n",
    "\n",
    "Use the `sample` view to fill in the SQL query below to compute a table containing three columns:\n",
    "\n",
    "- `cmte_nm`: The committee name\n",
    "- `small`: The number of small donors to that committee\n",
    "- `total`: The total number of donors to that committee\n",
    "\n",
    "The resulting table should have this structure (your counts will not exactly match these):\n",
    "\n",
    "<table>\n",
    "    <tbody><tr>\n",
    "        <th>cmte_nm</th>\n",
    "        <th>small</th>\n",
    "        <th>total</th>\n",
    "    </tr>\n",
    "    <tr>\n",
    "        <td>BERNIE 2016</td>\n",
    "        <td>1</td>\n",
    "        <td>3</td>\n",
    "    </tr>\n",
    "    <tr>\n",
    "        <td>HILLARY FOR AMERICA</td>\n",
    "        <td>2</td>\n",
    "        <td>4</td>\n",
    "    </tr>\n",
    "</tbody></table>\n",
    "\n",
    "Then, uncomment the provided line of code to load the query into a DataFrame. Use the DataFrame to compute our observed statistic:\n",
    "\n",
    "$$ \\frac {\\textrm{total donations under \\$200 to Hillary}} {\\textrm{total donations to Hillary}} - \n",
    "    \\frac {\\textrm{total donations under \\$200 to Bernie}} {\\textrm{total donations to Bernie}}. \n",
    "$$\n",
    "\n",
    "Then, save the numerical value in the variable `observed_stat`.\n",
    "\n",
    "Hint: We suggest computing the total amounts donated to each candidate using a WITH clause, then using the resulting table to compute the difference."
   ]
  },
  {
   "cell_type": "code",
   "execution_count": null,
   "metadata": {
    "for_assignment_type": "student",
    "tags": [
     "student"
    ]
   },
   "outputs": [],
   "source": [
    "# Fill in the query\n",
    "query_q6 = '''\n",
    "WITH marked AS (\n",
    "    SELECT *,\n",
    "        ...\n",
    "    FROM contribs\n",
    ")\n",
    "SELECT cmte_nm,\n",
    "    ... AS small,\n",
    "    ... AS total\n",
    "FROM ...\n",
    "GROUP BY ...\n",
    "ORDER BY cmte_nm\n",
    "'''\n",
    "\n",
    "# After writing query_q6, uncomment this line to create a dataframe\n",
    "# q6_df = pd.DataFrame(connection.execute(query_q6).fetchall(), columns=['cmte_nm', 'small', 'total'])\n",
    "\n",
    "...\n",
    "\n",
    "# Fill this in with the observed test statistic\n",
    "observed_stat = ...\n",
    "\n",
    "%sql $query_q6"
   ]
  },
  {
   "cell_type": "code",
   "execution_count": null,
   "metadata": {
    "tags": [
     "test",
     "q06"
    ]
   },
   "outputs": [],
   "source": [
    "_ = ok.grade('q06')\n",
    "_ = ok.backup()"
   ]
  },
  {
   "cell_type": "markdown",
   "metadata": {},
   "source": [
    "Is this result surprising?  Even though the difference is quite small, this difference could still be considered large relative to the standard error of the statistic. We need to find the chance of a difference this large or larger under the null hypothesis.  That's where our permutation test comes into the picture.\n"
   ]
  },
  {
   "cell_type": "markdown",
   "metadata": {},
   "source": [
    "### Conducting a Permutation Test\n",
    "\n",
    "As mentioned above, in a permutation test, we generate new observations as follows: \n",
    "\n",
    "1. Shuffle the observed values between the two samples. In this case, shuffle the contributions between Hillary and Bernie. We do this because we assume that our null hypothesis is true and that it was just by chance that Clinton had a higher proportion of small donors than Sanders. \n",
    "2. Recompute the test statistic on the shuffled sample.\n",
    "3. Repeat.\n",
    "\n",
    "To do this in SQL, we need to number the rows we want to bootstrap.\n",
    "\n",
    "The following cell creates a view called `sample`.\n",
    "\n",
    "It adds a `row_id` column to each row in `contribs` corresponding to a contribution and removes the `name` column since we don't need it for the permutation test."
   ]
  },
  {
   "cell_type": "code",
   "execution_count": null,
   "metadata": {
    "tags": [
     "student"
    ]
   },
   "outputs": [],
   "source": [
    "q_sample = '''\n",
    "DROP VIEW IF EXISTS sample CASCADE;\n",
    "\n",
    "CREATE OR REPLACE TEMP VIEW sample AS \n",
    "    SELECT row_number() over () AS row_id, transaction_amt, cmte_nm\n",
    "    FROM contribs;\n",
    "\n",
    "SELECT * FROM sample LIMIT 5\n",
    "'''\n",
    "\n",
    "connection.execute(q_sample)\n",
    "%sql $q_sample"
   ]
  },
  {
   "cell_type": "markdown",
   "metadata": {},
   "source": [
    "## Question 7\n",
    "\n",
    "Let's contruct a view containing the shuffled `row_id`'s for each trial. For example, if we had 3 contributions total and wanted to create 100 shuffled samples, we want something that looks like:\n",
    "\n",
    "```\n",
    "trial_id | row_id\n",
    "======== | ======\n",
    "1        | 1\n",
    "1        | 3\n",
    "1        | 2\n",
    "2        | 2\n",
    "2        | 1\n",
    "2        | 3\n",
    "...      | ...\n",
    "100      | 2\n",
    "100      | 3\n",
    "100      | 1\n",
    "```\n",
    "\n",
    "This will let us later construct a join on the `sample` view that computes the\n",
    "shuffled sample for each trial.\n",
    "\n",
    "Create a view called `design` that contains two columns: `trial_id`\n",
    "and `row_id`. It should contain the IDs corresponding to\n",
    "1000 reshuffles of the entire `sample` view. The `sample` view contains 491\n",
    "rows, so the `design` view should have a total of\n",
    "`1000 * 491 = 491000` rows.\n",
    "\n",
    "Hint: See if you can generate the trial_id and row_id in sorted order first. Then, try to shuffle the rows within each `trial_id` using a clever ORDER BY clause. We've done something similar in class when we took a sample without replacement in SQL. Our solution uses the Postgres functions `generate_series` and `random()`."
   ]
  },
  {
   "cell_type": "code",
   "execution_count": null,
   "metadata": {
    "for_assignment_type": "student",
    "tags": [
     "student"
    ]
   },
   "outputs": [],
   "source": [
    "# You may use these variables in your SQL query by prefixing the variable name with $\n",
    "# eg. $n_trials\n",
    "n_rows = 491\n",
    "n_trials = 1000\n",
    "\n",
    "query_q7 = \"\"\"\n",
    "CREATE VIEW design AS\n",
    "SELECT ...\n",
    "    ...\n",
    "\"\"\"\n",
    "\n",
    "# Do not change anything below this line\n",
    "\n",
    "# Fill in the $ variables set in the above string\n",
    "import string\n",
    "query_q7 = string.Template(query_q7).substitute(locals())\n",
    "\n",
    "seed = 0.42\n",
    "%sql drop view if exists design cascade\n",
    "%sql SET SEED TO $seed\n",
    "%sql $query_q7\n",
    "%sql select * from design limit 5"
   ]
  },
  {
   "cell_type": "code",
   "execution_count": null,
   "metadata": {
    "tags": [
     "test",
     "q07"
    ]
   },
   "outputs": [],
   "source": [
    "_ = ok.grade('q07')\n",
    "_ = ok.backup()"
   ]
  },
  {
   "cell_type": "markdown",
   "metadata": {},
   "source": [
    "### Question 8\n",
    "\n",
    "Construct a view called `joined` that uses the `sample` and `design` views to create a table containing the shuffled transaction amounts along with the **unshuffled** committee names — the committee names in the same order as they appeared in the original sample. Remember that in the permutation test we are shuffling the transaction amounts between the committees.\n",
    "\n",
    "It should have three columns:\n",
    "\n",
    "- `trial_id`: The number of the trial, from 1 to 10000\n",
    "- `transaction_amt`: The shuffled transaction amounts\n",
    "- `cmte_nm`: The **unshuffled** committee names.\n",
    "\n",
    "It should look something like:\n",
    "\n",
    "<table>\n",
    "    <tbody><tr>\n",
    "        <th>trial_id</th>\n",
    "        <th>transaction_amt</th>\n",
    "        <th>cmte_nm</th>\n",
    "    </tr>\n",
    "    <tr>\n",
    "        <td>1</td>\n",
    "        <td>10</td>\n",
    "        <td>BERNIE 2016</td>\n",
    "    </tr>\n",
    "    <tr>\n",
    "        <td>1</td>\n",
    "        <td>25</td>\n",
    "        <td>BERNIE 2016</td>\n",
    "    </tr>\n",
    "    <tr>\n",
    "        <td>1</td>\n",
    "        <td>25</td>\n",
    "        <td>BERNIE 2016</td>\n",
    "    </tr>\n",
    "    <tr>\n",
    "        <td>1</td>\n",
    "        <td>25</td>\n",
    "        <td>HILLARY FOR AMERICA</td>\n",
    "    </tr>\n",
    "    <tr>\n",
    "        <td>1</td>\n",
    "        <td>35</td>\n",
    "        <td>HILLARY FOR AMERICA</td>\n",
    "    </tr>\n",
    "</tbody></table>\n",
    "\n",
    "Hint: We've given you a WITH clause computing a row number for each trial group. Take a look at that table before trying out this problem. This problem requires you to join three tables together (one table gets joined twice)."
   ]
  },
  {
   "cell_type": "code",
   "execution_count": null,
   "metadata": {
    "for_assignment_type": "student"
   },
   "outputs": [],
   "source": [
    "query_q8 = '''\n",
    "CREATE VIEW joined as\n",
    "WITH num AS (\n",
    "    SELECT MOD(row_number() over () - 1, $n_rows) + 1 AS row_in_group, *\n",
    "    FROM design\n",
    ")\n",
    "SELECT ...\n",
    "FROM ...\n",
    "WHERE ...\n",
    "    AND ...\n",
    "'''\n",
    "\n",
    "# Do not change anything below this line\n",
    "\n",
    "query_q8 = string.Template(query_q8).substitute(locals())\n",
    "%sql drop view if exists joined cascade\n",
    "%sql SET SEED TO $seed\n",
    "%sql $query_q8\n",
    "%sql select * from joined limit 5"
   ]
  },
  {
   "cell_type": "code",
   "execution_count": null,
   "metadata": {
    "tags": [
     "test",
     "q08"
    ]
   },
   "outputs": [],
   "source": [
    "_ = ok.grade('q08')\n",
    "_ = ok.backup()"
   ]
  },
  {
   "cell_type": "markdown",
   "metadata": {},
   "source": [
    "### Question 9\n",
    "\n",
    "Construct a query `query_q9` that uses the `joined` view to compute the number of small donors for each trial. Recall that a small donor is anyone who contributed \\$200 or less.\n",
    "\n",
    "It should have four columns:\n",
    "\n",
    "- `trial_id`: The number of the trial, from 1 to 1000\n",
    "- `cmte_nm`: The committee name\n",
    "- `small`: The number of small donors for that committee, for that trial\n",
    "- `total`: The number of total donors for that committee, for that trial\n",
    "\n",
    "Order the result by increasing `trial_id` and then by `cmte_nm` within each trial.\n",
    "\n",
    "Your result should look something like:\n",
    "\n",
    "<table>\n",
    "    <tbody><tr>\n",
    "        <th>trial_id</th>\n",
    "        <th>cmte_nm</th>\n",
    "        <th>small</th>\n",
    "        <th>total</th>\n",
    "    </tr>\n",
    "    <tr>\n",
    "        <td>1</td>\n",
    "        <td>BERNIE 2016</td>\n",
    "        <td>207</td>\n",
    "        <td>239</td>\n",
    "    </tr>\n",
    "    <tr>\n",
    "        <td>1</td>\n",
    "        <td>HILLARY FOR AMERICA</td>\n",
    "        <td>230</td>\n",
    "        <td>252</td>\n",
    "    </tr>\n",
    "    <tr>\n",
    "        <td>2</td>\n",
    "        <td>BERNIE 2016</td>\n",
    "        <td>215</td>\n",
    "        <td>239</td>\n",
    "    </tr>\n",
    "    <tr>\n",
    "        <td>2</td>\n",
    "        <td>HILLARY FOR AMERICA</td>\n",
    "        <td>222</td>\n",
    "        <td>252</td>\n",
    "    </tr>\n",
    "    <tr>\n",
    "        <td>3</td>\n",
    "        <td>BERNIE 2016</td>\n",
    "        <td>216</td>\n",
    "        <td>239</td>\n",
    "    </tr>\n",
    "</tbody></table>\n",
    "\n",
    "Hint: This is similar to how we computed our observed test statistic above. We suggest first computing a column of 1s and 0s that indicate whether a contribution is small. Then, see if you can group that table properly.\n",
    "\n",
    "Then, create a pandas DataFrame called `trials` that contains the `trial_id` for each trial as the index and the generated test statistics as its only column `stats`. It should look like:\n",
    "\n",
    "<table class=\"dataframe\" border=\"1\">\n",
    "  <thead>\n",
    "    <tr style=\"text-align: right;\">\n",
    "      <th></th>\n",
    "      <th>stats</th>\n",
    "    </tr>\n",
    "    <tr>\n",
    "      <th>trial_id</th>\n",
    "      <th></th>\n",
    "    </tr>\n",
    "  </thead>\n",
    "  <tbody>\n",
    "    <tr>\n",
    "      <th>1</th>\n",
    "      <td>-0.018629</td>\n",
    "    </tr>\n",
    "    <tr>\n",
    "      <th>2</th>\n",
    "      <td>0.030285</td>\n",
    "    </tr>\n",
    "    <tr>\n",
    "      <th>3</th>\n",
    "      <td>-0.002325</td>\n",
    "    </tr>\n",
    "    <tr>\n",
    "      <th>4</th>\n",
    "      <td>-0.010477</td>\n",
    "    </tr>\n",
    "    <tr>\n",
    "      <th>5</th>\n",
    "      <td>0.022133</td>\n",
    "    </tr>\n",
    "  </tbody>\n",
    "</table>"
   ]
  },
  {
   "cell_type": "code",
   "execution_count": null,
   "metadata": {
    "for_assignment_type": "solution",
    "scrolled": true,
    "tags": [
     "student"
    ]
   },
   "outputs": [],
   "source": [
    "# Fill in the query\n",
    "query_q9 = '''\n",
    "WITH marked AS (\n",
    "    SELECT ...,\n",
    "        ... AS small\n",
    "    FROM ...\n",
    ")\n",
    "SELECT ...\n",
    "FROM ...\n",
    "ORDER BY ...\n",
    "'''\n",
    "\n",
    "# Do not change anything below this line\n",
    "\n",
    "query_q9 = string.Template(query_q9).substitute(locals())\n",
    "%sql SET SEED TO $seed\n",
    "%sql $query_q9\n",
    "\n",
    "# After writing query_q9, uncomment these line to create a dataframe\n",
    "# q9_df = pd.DataFrame(connection.execute(query_q9).fetchall(),\n",
    "#                      columns=['trial_id', 'cmte_nm', 'small', 'total'])\n",
    "\n",
    "# Then, use q9_df to compute trials\n",
    "trials = ...\n",
    "trials"
   ]
  },
  {
   "cell_type": "code",
   "execution_count": null,
   "metadata": {
    "tags": [
     "test",
     "q09"
    ]
   },
   "outputs": [],
   "source": [
    "_ = ok.grade('q09')\n",
    "_ = ok.backup()"
   ]
  },
  {
   "cell_type": "markdown",
   "metadata": {},
   "source": [
    "### Plotting the sample distribution\n",
    "\n",
    "Run the following cell to make a plot of the distribution of the proportion differences between Hillary and Bernie. We draw the observed test statistic and the negative of the observed test statistic as red lines on the plot.\n",
    "\n",
    "You should understand why we draw two red lines given our alternative hypothesis and our choice of test statistic."
   ]
  },
  {
   "cell_type": "code",
   "execution_count": null,
   "metadata": {},
   "outputs": [],
   "source": [
    "sns.distplot(trials['stats'])\n",
    "plt.axvline(x=observed_stat, color='r')\n",
    "plt.axvline(x= -observed_stat, color='r')"
   ]
  },
  {
   "cell_type": "markdown",
   "metadata": {},
   "source": [
    "### Question 10\n",
    "\n",
    "Write a query `query_q10` to compute the $p$-value based on the test statistics we generated through the shuffled samples.  We want to find the proportion of the 1000 test statistics that are at least as large in absolute value as the observed statistic.\n",
    "\n",
    "Save your $p$-value in the variable `p_value`."
   ]
  },
  {
   "cell_type": "code",
   "execution_count": null,
   "metadata": {
    "tags": [
     "student"
    ]
   },
   "outputs": [],
   "source": [
    "p_value = ...\n",
    "p_value"
   ]
  },
  {
   "cell_type": "code",
   "execution_count": null,
   "metadata": {
    "tags": [
     "test",
     "q10"
    ]
   },
   "outputs": [],
   "source": [
    "_ = ok.grade('q10')\n",
    "_ = ok.backup()"
   ]
  },
  {
   "cell_type": "markdown",
   "metadata": {},
   "source": [
    "### Question 11\n",
    "\n",
    "Based on your p-value, can you reject the null hypothesis using a cutoff of 5%? What do you conclude?"
   ]
  },
  {
   "cell_type": "markdown",
   "metadata": {
    "for_assignment_type": "student",
    "tags": [
     "written",
     "student",
     "q11a"
    ]
   },
   "source": [
    "**Write your answer here, replacing this text.**"
   ]
  },
  {
   "cell_type": "markdown",
   "metadata": {},
   "source": [
    "How might the fact that the California primary is one of the last primaries (it's in June) impact the results?"
   ]
  },
  {
   "cell_type": "markdown",
   "metadata": {
    "tags": [
     "written",
     "student",
     "q11b"
    ]
   },
   "source": [
    "**Write your answer here, replacing this text.**"
   ]
  },
  {
   "cell_type": "markdown",
   "metadata": {},
   "source": [
    "Congrats! You finished the homework."
   ]
  },
  {
   "cell_type": "markdown",
   "metadata": {},
   "source": [
    "# Submitting your assignment\n",
    "First, run the next cell to run all the tests at once."
   ]
  },
  {
   "cell_type": "code",
   "execution_count": null,
   "metadata": {},
   "outputs": [],
   "source": [
    "_ = ok.grade_all()"
   ]
  },
  {
   "cell_type": "markdown",
   "metadata": {},
   "source": [
    "Now, run the cell below to submit your assignment to OkPy. The autograder should email you shortly with your autograded score. The autograder will only run once every 30 minutes.\n",
    "\n",
    "**If you're failing tests on the autograder but pass them locally**, you should simulate the autograder by doing the following:\n",
    "\n",
    "1. In the top menu, click Kernel -> Restart and Run all.\n",
    "2. Run the cell above to run each OkPy test.\n",
    "\n",
    "**You must make sure that you pass all the tests when running steps 1 and 2 in order.** If you are still failing autograder tests, you should double check your results."
   ]
  },
  {
   "cell_type": "code",
   "execution_count": null,
   "metadata": {},
   "outputs": [],
   "source": [
    "# Now, we'll submit to okpy\n",
    "_ = ok.submit()"
   ]
  },
  {
   "cell_type": "markdown",
   "metadata": {},
   "source": [
    "Now, run this cell to create a PDF to upload to Gradescope.\n",
    "\n",
    "You may get an error about `wkhtmltopdf` the first time you run this cell. If so, install `wkhtmltopdf` and try again.\n",
    "\n",
    "Do not modify the cell below."
   ]
  },
  {
   "cell_type": "code",
   "execution_count": null,
   "metadata": {
    "tags": [
     "student",
     "no-ok"
    ]
   },
   "outputs": [],
   "source": [
    "!pip install -U gs100\n",
    "from gs100 import convert\n",
    "convert('hw5.ipynb', num_questions=3)"
   ]
  },
  {
   "cell_type": "markdown",
   "metadata": {},
   "source": [
    "**Make sure to upload your written answers to Gradescope now!**"
   ]
  },
  {
   "cell_type": "code",
   "execution_count": null,
   "metadata": {},
   "outputs": [],
   "source": []
  }
 ],
 "metadata": {
  "anaconda-cloud": {},
  "language_info": {
   "codemirror_mode": {
    "name": "ipython",
    "version": 3
   },
   "file_extension": ".py",
   "mimetype": "text/x-python",
   "name": "python",
   "nbconvert_exporter": "python",
   "pygments_lexer": "ipython3",
   "version": "3.5.2"
  },
  "timetravel": {
   "allowedContentTypes": [
    "text/plain"
   ],
   "enabled": false,
   "version": "1.0"
  }
 },
 "nbformat": 4,
 "nbformat_minor": 1
}